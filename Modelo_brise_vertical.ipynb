{
 "cells": [
  {
   "cell_type": "code",
   "execution_count": 1,
   "id": "35d80ccf",
   "metadata": {},
   "outputs": [
    {
     "name": "stderr",
     "output_type": "stream",
     "text": [
      "C:\\Users\\carol\\AppData\\Local\\Programs\\Python\\Python310\\lib\\site-packages\\tqdm\\auto.py:21: TqdmWarning: IProgress not found. Please update jupyter and ipywidgets. See https://ipywidgets.readthedocs.io/en/stable/user_install.html\n",
      "  from .autonotebook import tqdm as notebook_tqdm\n"
     ]
    }
   ],
   "source": [
    "from besos import eppy_funcs as ef, optimizer\n",
    "from besos import eplus_funcs as ep\n",
    "from besos.problem import EPProblem\n",
    "from besos.parameters import expand_plist\n",
    "from besos.objectives import *\n",
    "from besos.evaluator import EvaluatorEP\n",
    "from besos.parameters import wwr, RangeParameter, FieldSelector, FilterSelector, GenericSelector, Parameter, expand_plist, wwrSelector\n",
    "from besos.optimizer import NSGAII, SPEA2\n",
    "from platypus.evaluator import MapEvaluator\n",
    "from besos.objectives import MeterReader,time_series_values,EPResults\n",
    "import platypus\n",
    "import pandas as pd\n",
    "import matplotlib.pyplot as plt\n",
    "from datetime import datetime\n",
    "from dask.distributed import Client\n",
    "import math"
   ]
  },
  {
   "cell_type": "code",
   "execution_count": 2,
   "id": "bbd3f0c8",
   "metadata": {},
   "outputs": [],
   "source": [
    "building = ef.get_building('Sala_Multiuso_Shading_building_detailed.idf')"
   ]
  },
  {
   "cell_type": "code",
   "execution_count": 19,
   "id": "917a18e7-f2f2-4e0a-9208-e7028e556479",
   "metadata": {},
   "outputs": [],
   "source": [
    "# 2) Criar o parâmetro do ângulo do brise (variável de decisão)\n",
    "z=0\n",
    "param_angle = Parameter(\n",
    "    name=\"Brise Angle\",\n",
    "    value_descriptors=RangeParameter(min_val=0, max_val=90)\n",
    ")\n",
    "\n",
    "parameters = [param_angle]\n",
    "\n",
    "# 3) Criar os objetivos\n",
    "EPobjectives = ['ElectricityProduced:Facility','Electricity:Facility']  \n",
    "besos_problem = EPProblem(parameters, EPobjectives, minimize_outputs=[False,True])  # Criando uma instância do problema;\n",
    "\n",
    "# 4) Criar um Selector personalizado para converter ângulo em coordenadas\n",
    "from besos.parameters import Selector\n",
    "\n",
    "class BriseSelector(Selector):\n",
    "    def get(self, building):\n",
    "        return 0.0  # Valor inicial do ângulo, não usado diretamente\n",
    "\n",
    "    def set(self, building, angle):\n",
    "        \"\"\"Recebe o ângulo e aplica as coordenadas calculadas no IDF.\"\"\"\n",
    "        base_length = 1.03  # Comprimento do brise\n",
    "        x = 6.62-(base_length * math.sin(math.radians(angle)))\n",
    "        y = -base_length * math.cos(math.radians(angle))\n",
    "\n",
    "        shading_obj = building.getobject(\"Shading:Building:Detailed\", \"Brise Vertical_1\")\n",
    "            \n",
    "        # Atualizar as coordenadas dos vértices 2 e 3\n",
    "        shading_obj[\"Vertex_1_Xcoordinate\"] = x\n",
    "        shading_obj[\"Vertex_2_Xcoordinate\"] = x\n",
    "        shading_obj[\"Vertex_1_Ycoordinate\"] = y\n",
    "        shading_obj[\"Vertex_2_Ycoordinate\"] = y\n",
    "                   \n",
    "\n",
    "# 5) Criar o parâmetro com o Selector personalizado\n",
    "param_brise = Parameter(\n",
    "    selector=BriseSelector(),\n",
    "    name=\"Brise Angle\",\n",
    "    value_descriptors=RangeParameter(min_val=0, max_val=90)\n",
    ")\n",
    "\n",
    "parameters = [param_brise]\n",
    "\n",
    "besos_problem = EPProblem(parameters, EPobjectives, minimize_outputs=[False,True])  # Criando uma instância do problema;\n",
    "\n"
   ]
  },
  {
   "cell_type": "code",
   "execution_count": 20,
   "id": "6124ac3f-3a87-4eba-8ce3-2bbf8c830274",
   "metadata": {},
   "outputs": [
    {
     "name": "stdout",
     "output_type": "stream",
     "text": [
      "Running EnergyPlus with stdout output suppressed...\n",
      "Running EnergyPlus with stdout output suppressed...\n",
      "Running EnergyPlus with stdout output suppressed...\n",
      "Running EnergyPlus with stdout output suppressed...\n",
      "Running EnergyPlus with stdout output suppressed...\n",
      "Running EnergyPlus with stdout output suppressed...\n",
      "Running EnergyPlus with stdout output suppressed...\n",
      "Running EnergyPlus with stdout output suppressed...\n",
      "Running EnergyPlus with stdout output suppressed...\n",
      "Running EnergyPlus with stdout output suppressed...\n",
      "Running EnergyPlus with stdout output suppressed...\n",
      "Running EnergyPlus with stdout output suppressed...\n",
      "Running EnergyPlus with stdout output suppressed...\n",
      "Running EnergyPlus with stdout output suppressed...\n",
      "Running EnergyPlus with stdout output suppressed...\n",
      "Running EnergyPlus with stdout output suppressed...\n",
      "Running EnergyPlus with stdout output suppressed...\n",
      "Running EnergyPlus with stdout output suppressed...\n",
      "Running EnergyPlus with stdout output suppressed...\n",
      "Running EnergyPlus with stdout output suppressed...\n",
      "Running EnergyPlus with stdout output suppressed...\n",
      "Running EnergyPlus with stdout output suppressed...\n",
      "Running EnergyPlus with stdout output suppressed...\n",
      "Running EnergyPlus with stdout output suppressed...\n",
      "Running EnergyPlus with stdout output suppressed...\n",
      "Running EnergyPlus with stdout output suppressed...\n",
      "Running EnergyPlus with stdout output suppressed...\n",
      "Running EnergyPlus with stdout output suppressed...\n",
      "Running EnergyPlus with stdout output suppressed...\n",
      "Running EnergyPlus with stdout output suppressed...\n",
      "Running EnergyPlus with stdout output suppressed...\n",
      "Running EnergyPlus with stdout output suppressed...\n",
      "Running EnergyPlus with stdout output suppressed...\n",
      "Running EnergyPlus with stdout output suppressed...\n",
      "Running EnergyPlus with stdout output suppressed...\n",
      "Running EnergyPlus with stdout output suppressed...\n",
      "Running EnergyPlus with stdout output suppressed...\n",
      "Running EnergyPlus with stdout output suppressed...\n",
      "Running EnergyPlus with stdout output suppressed...\n",
      "Running EnergyPlus with stdout output suppressed...\n",
      "Running EnergyPlus with stdout output suppressed...\n",
      "Running EnergyPlus with stdout output suppressed...\n",
      "Running EnergyPlus with stdout output suppressed...\n",
      "Running EnergyPlus with stdout output suppressed...\n",
      "Running EnergyPlus with stdout output suppressed...\n",
      "Running EnergyPlus with stdout output suppressed...\n",
      "Running EnergyPlus with stdout output suppressed...\n",
      "Running EnergyPlus with stdout output suppressed...\n",
      "Running EnergyPlus with stdout output suppressed...\n",
      "Running EnergyPlus with stdout output suppressed...\n",
      "Running EnergyPlus with stdout output suppressed...\n",
      "Running EnergyPlus with stdout output suppressed...\n",
      "Running EnergyPlus with stdout output suppressed...\n",
      "Running EnergyPlus with stdout output suppressed...\n",
      "Running EnergyPlus with stdout output suppressed...\n",
      "Running EnergyPlus with stdout output suppressed...\n",
      "Running EnergyPlus with stdout output suppressed...\n",
      "Running EnergyPlus with stdout output suppressed...\n",
      "Running EnergyPlus with stdout output suppressed...\n",
      "Running EnergyPlus with stdout output suppressed...\n",
      "Running EnergyPlus with stdout output suppressed...\n",
      "Running EnergyPlus with stdout output suppressed...\n",
      "Running EnergyPlus with stdout output suppressed...\n",
      "Running EnergyPlus with stdout output suppressed...\n",
      "Running EnergyPlus with stdout output suppressed...\n",
      "Running EnergyPlus with stdout output suppressed...\n",
      "Running EnergyPlus with stdout output suppressed...\n",
      "Running EnergyPlus with stdout output suppressed...\n",
      "Running EnergyPlus with stdout output suppressed...\n",
      "Running EnergyPlus with stdout output suppressed...\n",
      "Running EnergyPlus with stdout output suppressed...\n",
      "Running EnergyPlus with stdout output suppressed...\n",
      "Running EnergyPlus with stdout output suppressed...\n",
      "Running EnergyPlus with stdout output suppressed...\n",
      "Running EnergyPlus with stdout output suppressed...\n",
      "Running EnergyPlus with stdout output suppressed...\n",
      "Running EnergyPlus with stdout output suppressed...\n",
      "Running EnergyPlus with stdout output suppressed...\n",
      "Running EnergyPlus with stdout output suppressed...\n",
      "Running EnergyPlus with stdout output suppressed...\n",
      "Running EnergyPlus with stdout output suppressed...\n",
      "Running EnergyPlus with stdout output suppressed...\n",
      "Running EnergyPlus with stdout output suppressed...\n",
      "Running EnergyPlus with stdout output suppressed...\n",
      "Running EnergyPlus with stdout output suppressed...\n",
      "Running EnergyPlus with stdout output suppressed...\n",
      "Running EnergyPlus with stdout output suppressed...\n",
      "Running EnergyPlus with stdout output suppressed...\n",
      "Running EnergyPlus with stdout output suppressed...\n",
      "Running EnergyPlus with stdout output suppressed...\n",
      "Running EnergyPlus with stdout output suppressed...\n",
      "Running EnergyPlus with stdout output suppressed...\n",
      "Running EnergyPlus with stdout output suppressed...\n",
      "Running EnergyPlus with stdout output suppressed...\n",
      "Running EnergyPlus with stdout output suppressed...\n",
      "Running EnergyPlus with stdout output suppressed...\n",
      "Running EnergyPlus with stdout output suppressed...\n",
      "Running EnergyPlus with stdout output suppressed...\n",
      "Running EnergyPlus with stdout output suppressed...\n",
      "Running EnergyPlus with stdout output suppressed...\n",
      "0:11:19.675992\n",
      "Variáveis de decisão: [81.55205051307674]\n",
      "Objetivos: [3855222028.648484, 63755664451.73079]\n",
      "Variáveis de decisão: [85.26784182064617]\n",
      "Objetivos: [3835145011.0992785, 63804330623.21003]\n",
      "Variáveis de decisão: [22.40539345967101]\n",
      "Objetivos: [3845939694.115228, 63591480957.60191]\n",
      "Variáveis de decisão: [74.39580414081283]\n",
      "Objetivos: [3902994130.901515, 63709466917.75291]\n",
      "Variáveis de decisão: [5.721357044017501]\n",
      "Objetivos: [3891798326.670662, 63516453970.35086]\n",
      "Variáveis de decisão: [60.09829069315075]\n",
      "Objetivos: [3994084853.3790426, 63678282348.66126]\n",
      "Variáveis de decisão: [50.33892886914961]\n",
      "Objetivos: [4054000850.053915, 63573622050.20952]\n",
      "Variáveis de decisão: [89.33332699123125]\n",
      "Objetivos: [3814956063.898201, 63802734732.96478]\n",
      "Variáveis de decisão: [84.41309334268371]\n",
      "Objetivos: [3839466976.391304, 63799604371.31661]\n",
      "Variáveis de decisão: [21.219310724162373]\n",
      "Objetivos: [3842635205.8111725, 63579572503.97222]\n",
      "Variáveis de decisão: [63.33739768884131]\n",
      "Objetivos: [3974091571.9267116, 63682904360.58101]\n",
      "Variáveis de decisão: [7.475966292155491]\n",
      "Objetivos: [3878101831.9250975, 63496887313.62992]\n",
      "Variáveis de decisão: [40.41231037662451]\n",
      "Objetivos: [4087443196.992734, 63621707730.45188]\n",
      "Variáveis de decisão: [28.170004426293815]\n",
      "Objetivos: [3882334173.89202, 63601965320.71991]\n",
      "Variáveis de decisão: [71.91505913150453]\n",
      "Objetivos: [3919182028.031444, 63733145932.68255]\n",
      "Variáveis de decisão: [74.65278845720728]\n",
      "Objetivos: [3901314094.554806, 63701107792.834145]\n",
      "Variáveis de decisão: [59.967592145051995]\n",
      "Objetivos: [3994888261.9099326, 63678554734.98467]\n",
      "Variáveis de decisão: [34.83912105154151]\n",
      "Objetivos: [3971264591.1187167, 63632988127.768234]\n",
      "Variáveis de decisão: [0.3758550593760923]\n",
      "Objetivos: [3943306267.6709385, 63511455973.086006]\n",
      "Variáveis de decisão: [41.9736140027258]\n",
      "Objetivos: [4104908427.582671, 63627389098.579025]\n",
      "Variáveis de decisão: [46.394537656347076]\n",
      "Objetivos: [4081382952.6279507, 63579549903.95239]\n",
      "Variáveis de decisão: [33.285628914351335]\n",
      "Objetivos: [3945070997.483806, 63613736869.19801]\n",
      "Variáveis de decisão: [79.41587984056429]\n",
      "Objetivos: [3869703493.036358, 63746695495.686295]\n",
      "Variáveis de decisão: [28.34194576493974]\n",
      "Objetivos: [3883944036.3075776, 63605241014.03387]\n",
      "Variáveis de decisão: [65.04543762181258]\n",
      "Objetivos: [3963234200.7549977, 63688550731.18797]\n",
      "Variáveis de decisão: [87.29066897057349]\n",
      "Objetivos: [3824976200.7319417, 63793576867.859375]\n",
      "Variáveis de decisão: [85.15600729734632]\n",
      "Objetivos: [3835709081.395031, 63809245948.134254]\n",
      "Variáveis de decisão: [33.65348569053908]\n",
      "Objetivos: [3951003605.938073, 63612167046.95489]\n",
      "Variáveis de decisão: [67.14869308475193]\n",
      "Objetivos: [3949662047.2050743, 63696446712.87917]\n",
      "Variáveis de decisão: [33.37101838507548]\n",
      "Objetivos: [3946418607.3606, 63613748877.19641]\n",
      "Variáveis de decisão: [36.74478321044829]\n",
      "Objetivos: [4007536338.3454995, 63654063500.22729]\n",
      "Variáveis de decisão: [44.19941994556025]\n",
      "Objetivos: [4095714021.852049, 63591047517.49185]\n",
      "Variáveis de decisão: [79.61808641229929]\n",
      "Objetivos: [3868326445.414812, 63745479169.33353]\n",
      "Variáveis de decisão: [37.511464744883206]\n",
      "Objetivos: [4023149243.419704, 63631889670.91367]\n",
      "Variáveis de decisão: [23.61858560766524]\n",
      "Objetivos: [3851107420.5002217, 63567454069.27213]\n",
      "Variáveis de decisão: [3.3581738660228155]\n",
      "Objetivos: [3912929729.92263, 63488488942.64047]\n",
      "Variáveis de decisão: [29.795205769278954]\n",
      "Objetivos: [3898664663.5197544, 63616067834.795395]\n",
      "Variáveis de decisão: [19.189353685780024]\n",
      "Objetivos: [3839627908.3103633, 63571425976.473946]\n",
      "Variáveis de decisão: [65.37053775535117]\n",
      "Objetivos: [3961146465.3504615, 63701131711.216866]\n",
      "Variáveis de decisão: [63.190646327219206]\n",
      "Objetivos: [3975001180.5366297, 63681776961.11958]\n",
      "Variáveis de decisão: [44.34949939124529]\n",
      "Objetivos: [4094825068.1254144, 63603906904.92712]\n",
      "Variáveis de decisão: [27.489759591950648]\n",
      "Objetivos: [3876224509.569067, 63600908513.244545]\n",
      "Variáveis de decisão: [87.37970328990554]\n",
      "Objetivos: [3824537047.5456443, 63781902264.396]\n",
      "Variáveis de decisão: [42.17456934343925]\n",
      "Objetivos: [4104135759.3166757, 63626371475.48076]\n",
      "Variáveis de decisão: [7.107211810080711]\n",
      "Objetivos: [3880673500.012227, 63496910455.143364]\n",
      "Variáveis de decisão: [63.767206148948745]\n",
      "Objetivos: [3971347177.8845105, 63688967960.77693]\n",
      "Variáveis de decisão: [70.47790201196317]\n",
      "Objetivos: [3928419571.858532, 63747223574.47422]\n",
      "Variáveis de decisão: [82.788949301255]\n",
      "Objetivos: [3847714788.5861816, 63804092338.87352]\n",
      "Variáveis de decisão: [59.04478864142692]\n",
      "Objetivos: [4000526873.233178, 63674704013.21453]\n",
      "Variáveis de decisão: [77.44485947924763]\n",
      "Objetivos: [3883222838.2965117, 63717131304.20555]\n",
      "Variáveis de decisão: [6.643340330589584]\n",
      "Objetivos: [3884287718.070008, 63498617355.744606]\n",
      "Variáveis de decisão: [13.142699051890649]\n",
      "Objetivos: [3849249170.912138, 63517227964.10448]\n",
      "Variáveis de decisão: [64.3107025458504]\n",
      "Objetivos: [3967944204.826108, 63678751529.78144]\n",
      "Variáveis de decisão: [54.86092443174959]\n",
      "Objetivos: [4025288050.863642, 63649676827.88443]\n",
      "Variáveis de decisão: [25.174860681762542]\n",
      "Objetivos: [3859033808.300851, 63599315520.570564]\n",
      "Variáveis de decisão: [83.72666450091664]\n",
      "Objetivos: [3842949237.9826317, 63808034720.19489]\n",
      "Variáveis de decisão: [11.116356960269185]\n",
      "Objetivos: [3857578604.2554207, 63503256159.28606]\n",
      "Variáveis de decisão: [62.964256469193316]\n",
      "Objetivos: [3976405666.5114207, 63682774304.250465]\n",
      "Variáveis de decisão: [39.505612501049974]\n",
      "Objetivos: [4066216679.6637516, 63625241459.86939]\n",
      "Variáveis de decisão: [18.676478308787637]\n",
      "Objetivos: [3839314697.9209733, 63570182744.5573]\n",
      "Variáveis de decisão: [53.22942507573792]\n",
      "Objetivos: [4034999692.489441, 63669364926.62287]\n",
      "Variáveis de decisão: [16.939135925186736]\n",
      "Objetivos: [3839862681.829908, 63529215335.783325]\n",
      "Variáveis de decisão: [79.10329451349799]\n",
      "Objetivos: [3871840633.1430554, 63740526100.525475]\n",
      "Variáveis de decisão: [20.99635638700986]\n",
      "Objetivos: [3842163834.9850454, 63579595054.375565]\n",
      "Variáveis de decisão: [70.00042621836921]\n",
      "Objetivos: [3931494033.2918034, 63744862315.07648]\n",
      "Variáveis de decisão: [12.640331831259143]\n",
      "Objetivos: [3851105336.7242346, 63499431725.31046]\n",
      "Variáveis de decisão: [30.113543339203872]\n",
      "Objetivos: [3902190142.8273706, 63612076087.428505]\n",
      "Variáveis de decisão: [13.4273060485455]\n",
      "Objetivos: [3848252495.225068, 63518789229.49874]\n",
      "Variáveis de decisão: [49.86406806446436]\n",
      "Objetivos: [4057278259.373284, 63550899782.138054]\n",
      "Variáveis de decisão: [27.430724577524614]\n",
      "Objetivos: [3875718199.2608, 63600903430.306885]\n",
      "Variáveis de decisão: [47.705084296602465]\n",
      "Objetivos: [4072309880.4471483, 63612536773.95095]\n",
      "Variáveis de decisão: [46.067107875451256]\n",
      "Objetivos: [4083629248.499793, 63594406782.14055]\n",
      "Variáveis de decisão: [29.473114840492944]\n",
      "Objetivos: [3895230282.8834224, 63610990491.47449]\n",
      "Variáveis de decisão: [21.55913599755048]\n",
      "Objetivos: [3843424999.3760886, 63575990733.046555]\n",
      "Variáveis de decisão: [28.665609588888728]\n",
      "Objetivos: [3887048968.2839627, 63606493379.25078]\n",
      "Variáveis de decisão: [62.92577986818236]\n",
      "Objetivos: [3976643569.22457, 63682760934.242004]\n",
      "Variáveis de decisão: [28.402414652658326]\n",
      "Objetivos: [3884517923.1078935, 63605246506.144905]\n",
      "Variáveis de decisão: [28.146058422423316]\n",
      "Objetivos: [3882115521.8003926, 63601963104.67806]\n",
      "Variáveis de decisão: [66.22241273412673]\n",
      "Objetivos: [3955651181.8720303, 63669636606.80537]\n",
      "Variáveis de decisão: [64.65893880358013]\n",
      "Objetivos: [3965713135.5044165, 63684155704.17696]\n",
      "Variáveis de decisão: [24.601729740423465]\n",
      "Objetivos: [3855915170.6688633, 63600237883.50529]\n",
      "Variáveis de decisão: [7.874666427638919]\n",
      "Objetivos: [3875452057.456032, 63509360998.30789]\n",
      "Variáveis de decisão: [81.70904881282569]\n",
      "Objetivos: [3854159675.2167134, 63754269773.896866]\n",
      "Variáveis de decisão: [40.11412073980231]\n",
      "Objetivos: [4080191159.697301, 63627972806.63197]\n",
      "Variáveis de decisão: [74.4719308724398]\n",
      "Objetivos: [3902496820.6616654, 63699001455.35089]\n",
      "Variáveis de decisão: [39.26800832869127]\n",
      "Objetivos: [4060892379.7295413, 63625095010.72747]\n",
      "Variáveis de decisão: [85.8234298338146]\n",
      "Objetivos: [3832259220.1660566, 63803430277.51382]\n",
      "Variáveis de decisão: [49.262744615086284]\n",
      "Objetivos: [4061451617.0233774, 63547464163.163475]\n",
      "Variáveis de decisão: [80.74240937020828]\n",
      "Objetivos: [3860694818.086342, 63734143925.66195]\n",
      "Variáveis de decisão: [84.08097664064205]\n",
      "Objetivos: [3841150138.922674, 63795902873.6378]\n",
      "Variáveis de decisão: [44.032666067073926]\n",
      "Objetivos: [4096670164.534686, 63599358624.170204]\n",
      "Variáveis de decisão: [81.87382967028975]\n",
      "Objetivos: [3853039343.0464153, 63767505132.91089]\n",
      "Variáveis de decisão: [57.20519783515505]\n",
      "Objetivos: [4011572166.7565517, 63678131148.1062]\n",
      "Variáveis de decisão: [38.25017915763638]\n",
      "Objetivos: [4038709202.148238, 63614591646.81769]\n",
      "Variáveis de decisão: [60.505705481137454]\n",
      "Objetivos: [3991579173.9929247, 63689651163.78315]\n",
      "Variáveis de decisão: [22.59323215803021]\n",
      "Objetivos: [3846664772.9985504, 63591490086.789696]\n",
      "Variáveis de decisão: [38.23687175123692]\n",
      "Objetivos: [4038431012.3926077, 63614588954.094696]\n",
      "Variáveis de decisão: [7.5070616761114675]\n",
      "Objetivos: [3877895361.2701693, 63496885441.8611]\n",
      "Variáveis de decisão: [25.59608623056185]\n",
      "Objetivos: [3861505879.4904943, 63592236817.48863]\n",
      "Variáveis de decisão: [57.949038589299754]\n",
      "Objetivos: [4007132150.967757, 63683337397.20783]\n"
     ]
    }
   ],
   "source": [
    "from platypus import NSGAII, Real, Problem\n",
    "from datetime import datetime\n",
    "from besos.evaluator import EvaluatorEP, Problem\n",
    "\n",
    "\n",
    "evaluator = EvaluatorEP(problem=besos_problem, building=building, epw=\"RS_Pelotas.epw\", err_dir='errdir')\n",
    "\n",
    "# Função para congelar (hash) valores, convertendo FixedLengthArray em tupla\n",
    "def custom_freeze(value):\n",
    "    if isinstance(value, FixedLengthArray):\n",
    "        return tuple(value)  # Converte FixedLengthArray em tupla\n",
    "    elif isinstance(value, list):\n",
    "        return tuple(custom_freeze(v) for v in value)\n",
    "    else:\n",
    "        return value\n",
    "\n",
    "# Substituir _freeze do besos pelo custom_freeze\n",
    "import besos.evaluator\n",
    "#besos.evaluator._freeze = custom_freeze\n",
    "# Redefinir o cache em cada chamada para contornar o problema\n",
    "\n",
    "original_call = besos.evaluator.AbstractEvaluator.__call__\n",
    "def call_no_cache(self, values, **kwargs):\n",
    "    self._cache = {}  # Reiniciar o cache para evitar erro de hash\n",
    "    return original_call(self, values, **kwargs)\n",
    "\n",
    "besos.evaluator.AbstractEvaluator.__call__ = call_no_cache\n",
    " #Criar uma função wrapper para evitar o uso de cache\n",
    "class NoCacheEvaluator(EvaluatorEP):\n",
    "    def __call__(self, values, **kwargs):\n",
    "        # Apenas executa a avaliação sem cache\n",
    "        return self.eval_single(values)  # Aqui, chamamos diretamente o método sem modificar o cache\n",
    "\n",
    "# Substituir o avaliador original pelo sem cache\n",
    "evaluator = NoCacheEvaluator(problem=besos_problem, building=building, epw=\"RS_Pelotas.epw\", err_dir='errdir')\n",
    "\n",
    "\n",
    "# Iniciar o NSGAII\n",
    "startTime = datetime.now()\n",
    "algorithm = NSGAII(evaluator.to_platypus(), population_size=100, expand_objects=True)\n",
    "algorithm.run(30)  \n",
    "print(datetime.now() - startTime)\n",
    "results = algorithm.result\n",
    "# Capturar e imprimir os resultados\n",
    "for solution in results:\n",
    "    \n",
    "    print(\"Variáveis de decisão:\", solution.variables)\n",
    "    print(\"Objetivos:\", solution.objectives)\n",
    "    "
   ]
  },
  {
   "cell_type": "code",
   "execution_count": 21,
   "id": "6991f868-6e55-4189-8690-6e6e5437b817",
   "metadata": {},
   "outputs": [
    {
     "data": {
      "text/html": [
       "<div>\n",
       "<style scoped>\n",
       "    .dataframe tbody tr th:only-of-type {\n",
       "        vertical-align: middle;\n",
       "    }\n",
       "\n",
       "    .dataframe tbody tr th {\n",
       "        vertical-align: top;\n",
       "    }\n",
       "\n",
       "    .dataframe thead th {\n",
       "        text-align: right;\n",
       "    }\n",
       "</style>\n",
       "<table border=\"1\" class=\"dataframe\">\n",
       "  <thead>\n",
       "    <tr style=\"text-align: right;\">\n",
       "      <th></th>\n",
       "      <th>Brise Angle</th>\n",
       "      <th>ElectricityProduced:Facility</th>\n",
       "      <th>Electricity:Facility</th>\n",
       "      <th>pareto-optimal</th>\n",
       "    </tr>\n",
       "  </thead>\n",
       "  <tbody>\n",
       "    <tr>\n",
       "      <th>0</th>\n",
       "      <td>0.375855</td>\n",
       "      <td>3.943306e+09</td>\n",
       "      <td>6.351146e+10</td>\n",
       "      <td>True</td>\n",
       "    </tr>\n",
       "    <tr>\n",
       "      <th>1</th>\n",
       "      <td>3.358174</td>\n",
       "      <td>3.912930e+09</td>\n",
       "      <td>6.348849e+10</td>\n",
       "      <td>True</td>\n",
       "    </tr>\n",
       "    <tr>\n",
       "      <th>2</th>\n",
       "      <td>5.721357</td>\n",
       "      <td>3.891798e+09</td>\n",
       "      <td>6.351645e+10</td>\n",
       "      <td>False</td>\n",
       "    </tr>\n",
       "    <tr>\n",
       "      <th>3</th>\n",
       "      <td>6.643340</td>\n",
       "      <td>3.884288e+09</td>\n",
       "      <td>6.349862e+10</td>\n",
       "      <td>False</td>\n",
       "    </tr>\n",
       "    <tr>\n",
       "      <th>4</th>\n",
       "      <td>7.107212</td>\n",
       "      <td>3.880674e+09</td>\n",
       "      <td>6.349691e+10</td>\n",
       "      <td>False</td>\n",
       "    </tr>\n",
       "    <tr>\n",
       "      <th>...</th>\n",
       "      <td>...</td>\n",
       "      <td>...</td>\n",
       "      <td>...</td>\n",
       "      <td>...</td>\n",
       "    </tr>\n",
       "    <tr>\n",
       "      <th>95</th>\n",
       "      <td>85.267842</td>\n",
       "      <td>3.835145e+09</td>\n",
       "      <td>6.380433e+10</td>\n",
       "      <td>False</td>\n",
       "    </tr>\n",
       "    <tr>\n",
       "      <th>96</th>\n",
       "      <td>85.823430</td>\n",
       "      <td>3.832259e+09</td>\n",
       "      <td>6.380343e+10</td>\n",
       "      <td>False</td>\n",
       "    </tr>\n",
       "    <tr>\n",
       "      <th>97</th>\n",
       "      <td>87.290669</td>\n",
       "      <td>3.824976e+09</td>\n",
       "      <td>6.379358e+10</td>\n",
       "      <td>False</td>\n",
       "    </tr>\n",
       "    <tr>\n",
       "      <th>98</th>\n",
       "      <td>87.379703</td>\n",
       "      <td>3.824537e+09</td>\n",
       "      <td>6.378190e+10</td>\n",
       "      <td>False</td>\n",
       "    </tr>\n",
       "    <tr>\n",
       "      <th>99</th>\n",
       "      <td>89.333327</td>\n",
       "      <td>3.814956e+09</td>\n",
       "      <td>6.380273e+10</td>\n",
       "      <td>False</td>\n",
       "    </tr>\n",
       "  </tbody>\n",
       "</table>\n",
       "<p>100 rows × 4 columns</p>\n",
       "</div>"
      ],
      "text/plain": [
       "    Brise Angle  ElectricityProduced:Facility  Electricity:Facility  \\\n",
       "0      0.375855                  3.943306e+09          6.351146e+10   \n",
       "1      3.358174                  3.912930e+09          6.348849e+10   \n",
       "2      5.721357                  3.891798e+09          6.351645e+10   \n",
       "3      6.643340                  3.884288e+09          6.349862e+10   \n",
       "4      7.107212                  3.880674e+09          6.349691e+10   \n",
       "..          ...                           ...                   ...   \n",
       "95    85.267842                  3.835145e+09          6.380433e+10   \n",
       "96    85.823430                  3.832259e+09          6.380343e+10   \n",
       "97    87.290669                  3.824976e+09          6.379358e+10   \n",
       "98    87.379703                  3.824537e+09          6.378190e+10   \n",
       "99    89.333327                  3.814956e+09          6.380273e+10   \n",
       "\n",
       "    pareto-optimal  \n",
       "0             True  \n",
       "1             True  \n",
       "2            False  \n",
       "3            False  \n",
       "4            False  \n",
       "..             ...  \n",
       "95           False  \n",
       "96           False  \n",
       "97           False  \n",
       "98           False  \n",
       "99           False  \n",
       "\n",
       "[100 rows x 4 columns]"
      ]
     },
     "execution_count": 21,
     "metadata": {},
     "output_type": "execute_result"
    }
   ],
   "source": [
    "results = optimizer.solutions_to_df(algorithm.result, problem=besos_problem, parts=[\"inputs\", \"outputs\"])\n",
    "results"
   ]
  },
  {
   "cell_type": "code",
   "execution_count": 22,
   "id": "41375706",
   "metadata": {},
   "outputs": [
    {
     "data": {
      "text/html": [
       "<div>\n",
       "<style scoped>\n",
       "    .dataframe tbody tr th:only-of-type {\n",
       "        vertical-align: middle;\n",
       "    }\n",
       "\n",
       "    .dataframe tbody tr th {\n",
       "        vertical-align: top;\n",
       "    }\n",
       "\n",
       "    .dataframe thead th {\n",
       "        text-align: right;\n",
       "    }\n",
       "</style>\n",
       "<table border=\"1\" class=\"dataframe\">\n",
       "  <thead>\n",
       "    <tr style=\"text-align: right;\">\n",
       "      <th></th>\n",
       "      <th>Brise Angle</th>\n",
       "      <th>ElectricityProduced:Facility</th>\n",
       "      <th>Electricity:Facility</th>\n",
       "      <th>pareto-optimal</th>\n",
       "    </tr>\n",
       "  </thead>\n",
       "  <tbody>\n",
       "    <tr>\n",
       "      <th>0</th>\n",
       "      <td>0.375855</td>\n",
       "      <td>1095.362852</td>\n",
       "      <td>17642.071104</td>\n",
       "      <td>True</td>\n",
       "    </tr>\n",
       "    <tr>\n",
       "      <th>1</th>\n",
       "      <td>3.358174</td>\n",
       "      <td>1086.924925</td>\n",
       "      <td>17635.691373</td>\n",
       "      <td>True</td>\n",
       "    </tr>\n",
       "    <tr>\n",
       "      <th>2</th>\n",
       "      <td>5.721357</td>\n",
       "      <td>1081.055091</td>\n",
       "      <td>17643.459436</td>\n",
       "      <td>False</td>\n",
       "    </tr>\n",
       "    <tr>\n",
       "      <th>3</th>\n",
       "      <td>6.643340</td>\n",
       "      <td>1078.968811</td>\n",
       "      <td>17638.504821</td>\n",
       "      <td>False</td>\n",
       "    </tr>\n",
       "    <tr>\n",
       "      <th>4</th>\n",
       "      <td>7.107212</td>\n",
       "      <td>1077.964861</td>\n",
       "      <td>17638.030682</td>\n",
       "      <td>False</td>\n",
       "    </tr>\n",
       "    <tr>\n",
       "      <th>...</th>\n",
       "      <td>...</td>\n",
       "      <td>...</td>\n",
       "      <td>...</td>\n",
       "      <td>...</td>\n",
       "    </tr>\n",
       "    <tr>\n",
       "      <th>95</th>\n",
       "      <td>85.267842</td>\n",
       "      <td>1065.318059</td>\n",
       "      <td>17723.425173</td>\n",
       "      <td>False</td>\n",
       "    </tr>\n",
       "    <tr>\n",
       "      <th>96</th>\n",
       "      <td>85.823430</td>\n",
       "      <td>1064.516450</td>\n",
       "      <td>17723.175077</td>\n",
       "      <td>False</td>\n",
       "    </tr>\n",
       "    <tr>\n",
       "      <th>97</th>\n",
       "      <td>87.290669</td>\n",
       "      <td>1062.493389</td>\n",
       "      <td>17720.438019</td>\n",
       "      <td>False</td>\n",
       "    </tr>\n",
       "    <tr>\n",
       "      <th>98</th>\n",
       "      <td>87.379703</td>\n",
       "      <td>1062.371402</td>\n",
       "      <td>17717.195073</td>\n",
       "      <td>False</td>\n",
       "    </tr>\n",
       "    <tr>\n",
       "      <th>99</th>\n",
       "      <td>89.333327</td>\n",
       "      <td>1059.710018</td>\n",
       "      <td>17722.981870</td>\n",
       "      <td>False</td>\n",
       "    </tr>\n",
       "  </tbody>\n",
       "</table>\n",
       "<p>100 rows × 4 columns</p>\n",
       "</div>"
      ],
      "text/plain": [
       "    Brise Angle  ElectricityProduced:Facility  Electricity:Facility  \\\n",
       "0      0.375855                   1095.362852          17642.071104   \n",
       "1      3.358174                   1086.924925          17635.691373   \n",
       "2      5.721357                   1081.055091          17643.459436   \n",
       "3      6.643340                   1078.968811          17638.504821   \n",
       "4      7.107212                   1077.964861          17638.030682   \n",
       "..          ...                           ...                   ...   \n",
       "95    85.267842                   1065.318059          17723.425173   \n",
       "96    85.823430                   1064.516450          17723.175077   \n",
       "97    87.290669                   1062.493389          17720.438019   \n",
       "98    87.379703                   1062.371402          17717.195073   \n",
       "99    89.333327                   1059.710018          17722.981870   \n",
       "\n",
       "    pareto-optimal  \n",
       "0             True  \n",
       "1             True  \n",
       "2            False  \n",
       "3            False  \n",
       "4            False  \n",
       "..             ...  \n",
       "95           False  \n",
       "96           False  \n",
       "97           False  \n",
       "98           False  \n",
       "99           False  \n",
       "\n",
       "[100 rows x 4 columns]"
      ]
     },
     "execution_count": 22,
     "metadata": {},
     "output_type": "execute_result"
    }
   ],
   "source": [
    "#results['Desconf. 80%'] = (results['Desconf. 80%']*(-1))/100\n",
    "#results['Power_inv'] = (results['Power_inv']/1000)\n",
    "results['ElectricityProduced:Facility'] = (results['ElectricityProduced:Facility']/3600000)\n",
    "results['Electricity:Facility'] = (results['Electricity:Facility']/3600000)\n",
    "\n",
    "results"
   ]
  },
  {
   "cell_type": "code",
   "execution_count": 23,
   "id": "66a8088b",
   "metadata": {},
   "outputs": [
    {
     "data": {
      "text/plain": [
       "Text(0, 0.5, 'Consumo de energia elétrica (kWh.ano)')"
      ]
     },
     "execution_count": 23,
     "metadata": {},
     "output_type": "execute_result"
    },
    {
     "data": {
      "image/png": "[encoded data removed]",
      "text/plain": [
       "<Figure size 640x480 with 1 Axes>"
      ]
     },
     "metadata": {},
     "output_type": "display_data"
    }
   ],
   "source": [
    "optres = results.loc[results['pareto-optimal']==True,:] # pareto-ótimo\n",
    "plt.plot(results['ElectricityProduced:Facility'], results['Electricity:Facility'],'x') \n",
    "plt.plot(optres['ElectricityProduced:Facility'], optres['Electricity:Facility'],'ro')\n",
    "plt.xlabel('Produção de energia elétrica (kWh.ano)')\n",
    "plt.ylabel('Consumo de energia elétrica (kWh.ano)')\n",
    "\n",
    "#plt.axis([1010,750,34590,34604]) #Seta a dimensão do grafico"
   ]
  },
  {
   "cell_type": "code",
   "execution_count": 24,
   "id": "0336d3a0",
   "metadata": {
    "editable": true,
    "slideshow": {
     "slide_type": ""
    },
    "tags": []
   },
   "outputs": [
    {
     "data": {
      "text/html": [
       "<div>\n",
       "<style scoped>\n",
       "    .dataframe tbody tr th:only-of-type {\n",
       "        vertical-align: middle;\n",
       "    }\n",
       "\n",
       "    .dataframe tbody tr th {\n",
       "        vertical-align: top;\n",
       "    }\n",
       "\n",
       "    .dataframe thead th {\n",
       "        text-align: right;\n",
       "    }\n",
       "</style>\n",
       "<table border=\"1\" class=\"dataframe\">\n",
       "  <thead>\n",
       "    <tr style=\"text-align: right;\">\n",
       "      <th></th>\n",
       "      <th>Brise Angle</th>\n",
       "      <th>ElectricityProduced:Facility</th>\n",
       "      <th>Electricity:Facility</th>\n",
       "      <th>pareto-optimal</th>\n",
       "    </tr>\n",
       "  </thead>\n",
       "  <tbody>\n",
       "    <tr>\n",
       "      <th>0</th>\n",
       "      <td>0.375855</td>\n",
       "      <td>1095.362852</td>\n",
       "      <td>17642.071104</td>\n",
       "      <td>True</td>\n",
       "    </tr>\n",
       "    <tr>\n",
       "      <th>1</th>\n",
       "      <td>3.358174</td>\n",
       "      <td>1086.924925</td>\n",
       "      <td>17635.691373</td>\n",
       "      <td>True</td>\n",
       "    </tr>\n",
       "    <tr>\n",
       "      <th>46</th>\n",
       "      <td>41.973614</td>\n",
       "      <td>1140.252341</td>\n",
       "      <td>17674.274750</td>\n",
       "      <td>True</td>\n",
       "    </tr>\n",
       "    <tr>\n",
       "      <th>47</th>\n",
       "      <td>42.174569</td>\n",
       "      <td>1140.037711</td>\n",
       "      <td>17673.992077</td>\n",
       "      <td>True</td>\n",
       "    </tr>\n",
       "    <tr>\n",
       "      <th>48</th>\n",
       "      <td>44.032666</td>\n",
       "      <td>1137.963935</td>\n",
       "      <td>17666.488507</td>\n",
       "      <td>True</td>\n",
       "    </tr>\n",
       "    <tr>\n",
       "      <th>49</th>\n",
       "      <td>44.199420</td>\n",
       "      <td>1137.698339</td>\n",
       "      <td>17664.179866</td>\n",
       "      <td>True</td>\n",
       "    </tr>\n",
       "    <tr>\n",
       "      <th>52</th>\n",
       "      <td>46.394538</td>\n",
       "      <td>1133.717487</td>\n",
       "      <td>17660.986084</td>\n",
       "      <td>True</td>\n",
       "    </tr>\n",
       "    <tr>\n",
       "      <th>54</th>\n",
       "      <td>49.262745</td>\n",
       "      <td>1128.181005</td>\n",
       "      <td>17652.073379</td>\n",
       "      <td>True</td>\n",
       "    </tr>\n",
       "  </tbody>\n",
       "</table>\n",
       "</div>"
      ],
      "text/plain": [
       "    Brise Angle  ElectricityProduced:Facility  Electricity:Facility  \\\n",
       "0      0.375855                   1095.362852          17642.071104   \n",
       "1      3.358174                   1086.924925          17635.691373   \n",
       "46    41.973614                   1140.252341          17674.274750   \n",
       "47    42.174569                   1140.037711          17673.992077   \n",
       "48    44.032666                   1137.963935          17666.488507   \n",
       "49    44.199420                   1137.698339          17664.179866   \n",
       "52    46.394538                   1133.717487          17660.986084   \n",
       "54    49.262745                   1128.181005          17652.073379   \n",
       "\n",
       "    pareto-optimal  \n",
       "0             True  \n",
       "1             True  \n",
       "46            True  \n",
       "47            True  \n",
       "48            True  \n",
       "49            True  \n",
       "52            True  \n",
       "54            True  "
      ]
     },
     "execution_count": 24,
     "metadata": {},
     "output_type": "execute_result"
    }
   ],
   "source": [
    "optres"
   ]
  },
  {
   "cell_type": "code",
   "execution_count": 25,
   "id": "0b42678d",
   "metadata": {},
   "outputs": [
    {
     "data": {
      "text/html": [
       "        <script type=\"text/javascript\">\n",
       "        window.PlotlyConfig = {MathJaxConfig: 'local'};\n",
       "        if (window.MathJax && window.MathJax.Hub && window.MathJax.Hub.Config) {window.MathJax.Hub.Config({SVG: {font: \"STIX-Web\"}});}\n",
       "        if (typeof require !== 'undefined') {\n",
       "        require.undef(\"plotly\");\n",
       "        requirejs.config({\n",
       "            paths: {\n",
       "                'plotly': ['https://cdn.plot.ly/plotly-2.35.2.min']\n",
       "            }\n",
       "        });\n",
       "        require(['plotly'], function(Plotly) {\n",
       "            window._Plotly = Plotly;\n",
       "        });\n",
       "        }\n",
       "        </script>\n",
       "        "
      ]
     },
     "metadata": {},
     "output_type": "display_data"
    },
    {
     "data": {
      "application/vnd.plotly.v1+json": {
       "config": {
        "plotlyServerURL": "https://plot.ly"
       },
       "data": [
        {
         "dimensions": [
          {
           "label": "Brise Angle",
           "values": [
            0.3758550593760923,
            3.3581738660228155,
            5.721357044017501,
            6.643340330589584,
            7.107211810080711,
            7.475966292155491,
            7.5070616761114675,
            7.874666427638919,
            11.116356960269185,
            12.640331831259143,
            13.142699051890649,
            13.4273060485455,
            16.939135925186736,
            18.676478308787637,
            19.189353685780024,
            20.99635638700986,
            21.219310724162373,
            21.55913599755048,
            22.40539345967101,
            22.59323215803021,
            23.61858560766524,
            24.601729740423465,
            25.174860681762542,
            25.59608623056185,
            27.430724577524614,
            27.489759591950648,
            28.146058422423316,
            28.170004426293815,
            28.34194576493974,
            28.402414652658326,
            28.665609588888728,
            29.473114840492944,
            29.795205769278954,
            30.113543339203872,
            33.285628914351335,
            33.37101838507548,
            33.65348569053908,
            34.83912105154151,
            36.74478321044829,
            37.511464744883206,
            38.23687175123692,
            38.25017915763638,
            39.26800832869127,
            39.505612501049974,
            40.11412073980231,
            40.41231037662451,
            41.9736140027258,
            42.17456934343925,
            44.032666067073926,
            44.19941994556025,
            44.34949939124529,
            46.067107875451256,
            46.394537656347076,
            47.705084296602465,
            49.262744615086284,
            49.86406806446436,
            50.33892886914961,
            53.22942507573792,
            54.86092443174959,
            57.20519783515505,
            57.949038589299754,
            59.04478864142692,
            59.967592145051995,
            60.09829069315075,
            60.505705481137454,
            62.92577986818236,
            62.964256469193316,
            63.190646327219206,
            63.33739768884131,
            63.767206148948745,
            64.3107025458504,
            64.65893880358013,
            65.04543762181258,
            65.37053775535117,
            66.22241273412673,
            67.14869308475193,
            70.00042621836921,
            70.47790201196317,
            71.91505913150453,
            74.39580414081283,
            74.4719308724398,
            74.65278845720728,
            77.44485947924763,
            79.10329451349799,
            79.41587984056429,
            79.61808641229929,
            80.74240937020828,
            81.55205051307674,
            81.70904881282569,
            81.87382967028975,
            82.788949301255,
            83.72666450091664,
            84.08097664064205,
            84.41309334268371,
            85.15600729734632,
            85.26784182064617,
            85.8234298338146,
            87.29066897057349,
            87.37970328990554,
            89.33332699123125
           ]
          },
          {
           "label": "Electricity:Facility",
           "values": [
            17642.071103635,
            17635.691372955687,
            17643.459436208574,
            17638.50482104017,
            17638.030681984266,
            17638.02425378609,
            17638.023733850307,
            17641.489166196636,
            17639.79337757946,
            17638.73103480846,
            17643.674434473465,
            17644.108119305205,
            17647.00425993981,
            17658.38409571036,
            17658.72943790943,
            17660.998626215434,
            17660.992362214507,
            17659.997425846264,
            17664.300266000533,
            17664.302801886028,
            17657.626130353372,
            17666.732745418136,
            17666.476533491823,
            17664.510227080176,
            17666.91761952969,
            17666.91903145682,
            17667.211973521684,
            17667.212589088864,
            17668.122503898296,
            17668.124029484698,
            17668.470383125215,
            17669.719580965135,
            17671.12995410983,
            17670.021135396808,
            17670.482463666114,
            17670.485799221224,
            17670.04640193191,
            17675.830035491177,
            17681.68430561869,
            17675.524908587133,
            17670.719153915194,
            17670.7199018938,
            17673.637502979855,
            17673.678183297052,
            17674.436890731104,
            17672.696591792188,
            17674.274749605283,
            17673.992076522434,
            17666.488506713944,
            17664.17986596996,
            17667.75191803531,
            17665.112995039042,
            17660.98608443122,
            17670.149103875265,
            17652.07337865652,
            17653.02771726057,
            17659.339458391532,
            17685.934701839687,
            17680.465785523455,
            17688.369763362833,
            17689.815943668844,
            17687.41778144848,
            17688.487426384632,
            17688.41176351702,
            17691.56976771754,
            17689.655815067224,
            17689.659528958462,
            17689.382489199885,
            17689.695655716947,
            17691.379989104702,
            17688.542091605956,
            17690.043251160267,
            17691.264091996658,
            17694.75880867135,
            17686.010168557048,
            17693.457420244216,
            17706.906198632354,
            17707.562104020617,
            17703.651647967374,
            17697.074143820253,
            17694.167070930802,
            17694.752164676152,
            17699.203140057096,
            17705.70169459041,
            17707.415415468415,
            17707.07754703709,
            17703.92886823943,
            17709.90679214744,
            17709.51938163802,
            17713.195870253025,
            17723.358983020422,
            17724.454088943025,
            17721.084131566055,
            17722.112325365724,
            17724.790541148403,
            17723.425173113897,
            17723.175077087173,
            17720.438018849825,
            17717.195073443334,
            17722.981870267995
           ]
          }
         ],
         "domain": {
          "x": [
           0,
           1
          ],
          "y": [
           0,
           1
          ]
         },
         "line": {
          "color": [
           1095.3628521308162,
           1086.9249249785082,
           1081.0550907418506,
           1078.9688105750022,
           1077.9648611145076,
           1077.2505088680825,
           1077.1931559083803,
           1076.5144604044533,
           1071.5496122931725,
           1069.7514824233986,
           1069.2358808089273,
           1068.959026451408,
           1066.62852273053,
           1066.4763049780481,
           1066.5633078639898,
           1067.2677319402903,
           1067.3986682808813,
           1067.618055382247,
           1068.3165816986746,
           1068.5179924995973,
           1069.7520612500616,
           1071.0875474080176,
           1071.9538356391251,
           1072.6405220806928,
           1076.5883886835554,
           1076.7290304358519,
           1078.3654227223312,
           1078.42615941445,
           1078.8733434187716,
           1079.0327564188592,
           1079.735824523323,
           1082.0084119120618,
           1082.962406533265,
           1083.9417063409362,
           1095.8530548566127,
           1096.2273909335,
           1097.5010016494648,
           1103.1290530885324,
           1113.2045384293053,
           1117.5414565054734,
           1121.78639233128,
           1121.8636672633995,
           1128.0256610359836,
           1129.504633239931,
           1133.3864332492503,
           1135.4008880535373,
           1140.2523409951864,
           1140.0377109212989,
           1137.9639345929684,
           1137.6983394033468,
           1137.4514078126151,
           1134.3414579166092,
           1133.7174868410973,
           1131.1971890130967,
           1128.181004728716,
           1127.0217387148011,
           1126.1113472371985,
           1120.8332479137337,
           1118.135569684345,
           1114.32560187682,
           1113.0922641577104,
           1111.257464786994,
           1109.6911838638703,
           1109.4680148275118,
           1108.7719927758124,
           1104.6232136734916,
           1104.5571295865057,
           1104.1669945935082,
           1103.9143255351976,
           1103.1519938568085,
           1102.2067235628078,
           1101.58698208456,
           1100.8983890986106,
           1100.3184625973504,
           1098.791994964453,
           1097.128346445854,
           1092.0816759143897,
           1091.2276588495922,
           1088.6616744531789,
           1084.165036361532,
           1084.0268946282404,
           1083.6983595985573,
           1078.67301063792,
           1075.511286984182,
           1074.917636954544,
           1074.5351237263367,
           1072.415227246206,
           1070.8950079579122,
           1070.5999097824204,
           1070.288706401782,
           1068.8096634961616,
           1067.48589943962,
           1066.9861497007428,
           1066.51860455314,
           1065.474744831953,
           1065.3180586386884,
           1064.516450046127,
           1062.493389092206,
           1062.3714020960124,
           1059.7100177495004
          ],
          "coloraxis": "coloraxis"
         },
         "name": "",
         "type": "parcoords"
        }
       ],
       "layout": {
        "autosize": true,
        "coloraxis": {
         "colorbar": {
          "title": {
           "text": "ElectricityProduced:Facility"
          }
         },
         "colorscale": [
          [
           0,
           "rgb(0,0,131)"
          ],
          [
           0.2,
           "rgb(0,60,170)"
          ],
          [
           0.4,
           "rgb(5,255,255)"
          ],
          [
           0.6,
           "rgb(255,255,0)"
          ],
          [
           0.8,
           "rgb(250,0,0)"
          ],
          [
           1,
           "rgb(128,0,0)"
          ]
         ]
        },
        "legend": {
         "tracegroupgap": 0
        },
        "margin": {
         "t": 60
        },
        "template": {
         "data": {
          "bar": [
           {
            "error_x": {
             "color": "#2a3f5f"
            },
            "error_y": {
             "color": "#2a3f5f"
            },
            "marker": {
             "line": {
              "color": "#E5ECF6",
              "width": 0.5
             },
             "pattern": {
              "fillmode": "overlay",
              "size": 10,
              "solidity": 0.2
             }
            },
            "type": "bar"
           }
          ],
          "barpolar": [
           {
            "marker": {
             "line": {
              "color": "#E5ECF6",
              "width": 0.5
             },
             "pattern": {
              "fillmode": "overlay",
              "size": 10,
              "solidity": 0.2
             }
            },
            "type": "barpolar"
           }
          ],
          "carpet": [
           {
            "aaxis": {
             "endlinecolor": "#2a3f5f",
             "gridcolor": "white",
             "linecolor": "white",
             "minorgridcolor": "white",
             "startlinecolor": "#2a3f5f"
            },
            "baxis": {
             "endlinecolor": "#2a3f5f",
             "gridcolor": "white",
             "linecolor": "white",
             "minorgridcolor": "white",
             "startlinecolor": "#2a3f5f"
            },
            "type": "carpet"
           }
          ],
          "choropleth": [
           {
            "colorbar": {
             "outlinewidth": 0,
             "ticks": ""
            },
            "type": "choropleth"
           }
          ],
          "contour": [
           {
            "colorbar": {
             "outlinewidth": 0,
             "ticks": ""
            },
            "colorscale": [
             [
              0,
              "#0d0887"
             ],
             [
              0.1111111111111111,
              "#46039f"
             ],
             [
              0.2222222222222222,
              "#7201a8"
             ],
             [
              0.3333333333333333,
              "#9c179e"
             ],
             [
              0.4444444444444444,
              "#bd3786"
             ],
             [
              0.5555555555555556,
              "#d8576b"
             ],
             [
              0.6666666666666666,
              "#ed7953"
             ],
             [
              0.7777777777777778,
              "#fb9f3a"
             ],
             [
              0.8888888888888888,
              "#fdca26"
             ],
             [
              1,
              "#f0f921"
             ]
            ],
            "type": "contour"
           }
          ],
          "contourcarpet": [
           {
            "colorbar": {
             "outlinewidth": 0,
             "ticks": ""
            },
            "type": "contourcarpet"
           }
          ],
          "heatmap": [
           {
            "colorbar": {
             "outlinewidth": 0,
             "ticks": ""
            },
            "colorscale": [
             [
              0,
              "#0d0887"
             ],
             [
              0.1111111111111111,
              "#46039f"
             ],
             [
              0.2222222222222222,
              "#7201a8"
             ],
             [
              0.3333333333333333,
              "#9c179e"
             ],
             [
              0.4444444444444444,
              "#bd3786"
             ],
             [
              0.5555555555555556,
              "#d8576b"
             ],
             [
              0.6666666666666666,
              "#ed7953"
             ],
             [
              0.7777777777777778,
              "#fb9f3a"
             ],
             [
              0.8888888888888888,
              "#fdca26"
             ],
             [
              1,
              "#f0f921"
             ]
            ],
            "type": "heatmap"
           }
          ],
          "heatmapgl": [
           {
            "colorbar": {
             "outlinewidth": 0,
             "ticks": ""
            },
            "colorscale": [
             [
              0,
              "#0d0887"
             ],
             [
              0.1111111111111111,
              "#46039f"
             ],
             [
              0.2222222222222222,
              "#7201a8"
             ],
             [
              0.3333333333333333,
              "#9c179e"
             ],
             [
              0.4444444444444444,
              "#bd3786"
             ],
             [
              0.5555555555555556,
              "#d8576b"
             ],
             [
              0.6666666666666666,
              "#ed7953"
             ],
             [
              0.7777777777777778,
              "#fb9f3a"
             ],
             [
              0.8888888888888888,
              "#fdca26"
             ],
             [
              1,
              "#f0f921"
             ]
            ],
            "type": "heatmapgl"
           }
          ],
          "histogram": [
           {
            "marker": {
             "pattern": {
              "fillmode": "overlay",
              "size": 10,
              "solidity": 0.2
             }
            },
            "type": "histogram"
           }
          ],
          "histogram2d": [
           {
            "colorbar": {
             "outlinewidth": 0,
             "ticks": ""
            },
            "colorscale": [
             [
              0,
              "#0d0887"
             ],
             [
              0.1111111111111111,
              "#46039f"
             ],
             [
              0.2222222222222222,
              "#7201a8"
             ],
             [
              0.3333333333333333,
              "#9c179e"
             ],
             [
              0.4444444444444444,
              "#bd3786"
             ],
             [
              0.5555555555555556,
              "#d8576b"
             ],
             [
              0.6666666666666666,
              "#ed7953"
             ],
             [
              0.7777777777777778,
              "#fb9f3a"
             ],
             [
              0.8888888888888888,
              "#fdca26"
             ],
             [
              1,
              "#f0f921"
             ]
            ],
            "type": "histogram2d"
           }
          ],
          "histogram2dcontour": [
           {
            "colorbar": {
             "outlinewidth": 0,
             "ticks": ""
            },
            "colorscale": [
             [
              0,
              "#0d0887"
             ],
             [
              0.1111111111111111,
              "#46039f"
             ],
             [
              0.2222222222222222,
              "#7201a8"
             ],
             [
              0.3333333333333333,
              "#9c179e"
             ],
             [
              0.4444444444444444,
              "#bd3786"
             ],
             [
              0.5555555555555556,
              "#d8576b"
             ],
             [
              0.6666666666666666,
              "#ed7953"
             ],
             [
              0.7777777777777778,
              "#fb9f3a"
             ],
             [
              0.8888888888888888,
              "#fdca26"
             ],
             [
              1,
              "#f0f921"
             ]
            ],
            "type": "histogram2dcontour"
           }
          ],
          "mesh3d": [
           {
            "colorbar": {
             "outlinewidth": 0,
             "ticks": ""
            },
            "type": "mesh3d"
           }
          ],
          "parcoords": [
           {
            "line": {
             "colorbar": {
              "outlinewidth": 0,
              "ticks": ""
             }
            },
            "type": "parcoords"
           }
          ],
          "pie": [
           {
            "automargin": true,
            "type": "pie"
           }
          ],
          "scatter": [
           {
            "fillpattern": {
             "fillmode": "overlay",
             "size": 10,
             "solidity": 0.2
            },
            "type": "scatter"
           }
          ],
          "scatter3d": [
           {
            "line": {
             "colorbar": {
              "outlinewidth": 0,
              "ticks": ""
             }
            },
            "marker": {
             "colorbar": {
              "outlinewidth": 0,
              "ticks": ""
             }
            },
            "type": "scatter3d"
           }
          ],
          "scattercarpet": [
           {
            "marker": {
             "colorbar": {
              "outlinewidth": 0,
              "ticks": ""
             }
            },
            "type": "scattercarpet"
           }
          ],
          "scattergeo": [
           {
            "marker": {
             "colorbar": {
              "outlinewidth": 0,
              "ticks": ""
             }
            },
            "type": "scattergeo"
           }
          ],
          "scattergl": [
           {
            "marker": {
             "colorbar": {
              "outlinewidth": 0,
              "ticks": ""
             }
            },
            "type": "scattergl"
           }
          ],
          "scattermapbox": [
           {
            "marker": {
             "colorbar": {
              "outlinewidth": 0,
              "ticks": ""
             }
            },
            "type": "scattermapbox"
           }
          ],
          "scatterpolar": [
           {
            "marker": {
             "colorbar": {
              "outlinewidth": 0,
              "ticks": ""
             }
            },
            "type": "scatterpolar"
           }
          ],
          "scatterpolargl": [
           {
            "marker": {
             "colorbar": {
              "outlinewidth": 0,
              "ticks": ""
             }
            },
            "type": "scatterpolargl"
           }
          ],
          "scatterternary": [
           {
            "marker": {
             "colorbar": {
              "outlinewidth": 0,
              "ticks": ""
             }
            },
            "type": "scatterternary"
           }
          ],
          "surface": [
           {
            "colorbar": {
             "outlinewidth": 0,
             "ticks": ""
            },
            "colorscale": [
             [
              0,
              "#0d0887"
             ],
             [
              0.1111111111111111,
              "#46039f"
             ],
             [
              0.2222222222222222,
              "#7201a8"
             ],
             [
              0.3333333333333333,
              "#9c179e"
             ],
             [
              0.4444444444444444,
              "#bd3786"
             ],
             [
              0.5555555555555556,
              "#d8576b"
             ],
             [
              0.6666666666666666,
              "#ed7953"
             ],
             [
              0.7777777777777778,
              "#fb9f3a"
             ],
             [
              0.8888888888888888,
              "#fdca26"
             ],
             [
              1,
              "#f0f921"
             ]
            ],
            "type": "surface"
           }
          ],
          "table": [
           {
            "cells": {
             "fill": {
              "color": "#EBF0F8"
             },
             "line": {
              "color": "white"
             }
            },
            "header": {
             "fill": {
              "color": "#C8D4E3"
             },
             "line": {
              "color": "white"
             }
            },
            "type": "table"
           }
          ]
         },
         "layout": {
          "annotationdefaults": {
           "arrowcolor": "#2a3f5f",
           "arrowhead": 0,
           "arrowwidth": 1
          },
          "autotypenumbers": "strict",
          "coloraxis": {
           "colorbar": {
            "outlinewidth": 0,
            "ticks": ""
           }
          },
          "colorscale": {
           "diverging": [
            [
             0,
             "#8e0152"
            ],
            [
             0.1,
             "#c51b7d"
            ],
            [
             0.2,
             "#de77ae"
            ],
            [
             0.3,
             "#f1b6da"
            ],
            [
             0.4,
             "#fde0ef"
            ],
            [
             0.5,
             "#f7f7f7"
            ],
            [
             0.6,
             "#e6f5d0"
            ],
            [
             0.7,
             "#b8e186"
            ],
            [
             0.8,
             "#7fbc41"
            ],
            [
             0.9,
             "#4d9221"
            ],
            [
             1,
             "#276419"
            ]
           ],
           "sequential": [
            [
             0,
             "#0d0887"
            ],
            [
             0.1111111111111111,
             "#46039f"
            ],
            [
             0.2222222222222222,
             "#7201a8"
            ],
            [
             0.3333333333333333,
             "#9c179e"
            ],
            [
             0.4444444444444444,
             "#bd3786"
            ],
            [
             0.5555555555555556,
             "#d8576b"
            ],
            [
             0.6666666666666666,
             "#ed7953"
            ],
            [
             0.7777777777777778,
             "#fb9f3a"
            ],
            [
             0.8888888888888888,
             "#fdca26"
            ],
            [
             1,
             "#f0f921"
            ]
           ],
           "sequentialminus": [
            [
             0,
             "#0d0887"
            ],
            [
             0.1111111111111111,
             "#46039f"
            ],
            [
             0.2222222222222222,
             "#7201a8"
            ],
            [
             0.3333333333333333,
             "#9c179e"
            ],
            [
             0.4444444444444444,
             "#bd3786"
            ],
            [
             0.5555555555555556,
             "#d8576b"
            ],
            [
             0.6666666666666666,
             "#ed7953"
            ],
            [
             0.7777777777777778,
             "#fb9f3a"
            ],
            [
             0.8888888888888888,
             "#fdca26"
            ],
            [
             1,
             "#f0f921"
            ]
           ]
          },
          "colorway": [
           "#636efa",
           "#EF553B",
           "#00cc96",
           "#ab63fa",
           "#FFA15A",
           "#19d3f3",
           "#FF6692",
           "#B6E880",
           "#FF97FF",
           "#FECB52"
          ],
          "font": {
           "color": "#2a3f5f"
          },
          "geo": {
           "bgcolor": "white",
           "lakecolor": "white",
           "landcolor": "#E5ECF6",
           "showlakes": true,
           "showland": true,
           "subunitcolor": "white"
          },
          "hoverlabel": {
           "align": "left"
          },
          "hovermode": "closest",
          "mapbox": {
           "style": "light"
          },
          "paper_bgcolor": "white",
          "plot_bgcolor": "#E5ECF6",
          "polar": {
           "angularaxis": {
            "gridcolor": "white",
            "linecolor": "white",
            "ticks": ""
           },
           "bgcolor": "#E5ECF6",
           "radialaxis": {
            "gridcolor": "white",
            "linecolor": "white",
            "ticks": ""
           }
          },
          "scene": {
           "xaxis": {
            "backgroundcolor": "#E5ECF6",
            "gridcolor": "white",
            "gridwidth": 2,
            "linecolor": "white",
            "showbackground": true,
            "ticks": "",
            "zerolinecolor": "white"
           },
           "yaxis": {
            "backgroundcolor": "#E5ECF6",
            "gridcolor": "white",
            "gridwidth": 2,
            "linecolor": "white",
            "showbackground": true,
            "ticks": "",
            "zerolinecolor": "white"
           },
           "zaxis": {
            "backgroundcolor": "#E5ECF6",
            "gridcolor": "white",
            "gridwidth": 2,
            "linecolor": "white",
            "showbackground": true,
            "ticks": "",
            "zerolinecolor": "white"
           }
          },
          "shapedefaults": {
           "line": {
            "color": "#2a3f5f"
           }
          },
          "ternary": {
           "aaxis": {
            "gridcolor": "white",
            "linecolor": "white",
            "ticks": ""
           },
           "baxis": {
            "gridcolor": "white",
            "linecolor": "white",
            "ticks": ""
           },
           "bgcolor": "#E5ECF6",
           "caxis": {
            "gridcolor": "white",
            "linecolor": "white",
            "ticks": ""
           }
          },
          "title": {
           "x": 0.05
          },
          "xaxis": {
           "automargin": true,
           "gridcolor": "white",
           "linecolor": "white",
           "ticks": "",
           "title": {
            "standoff": 15
           },
           "zerolinecolor": "white",
           "zerolinewidth": 2
          },
          "yaxis": {
           "automargin": true,
           "gridcolor": "white",
           "linecolor": "white",
           "ticks": "",
           "title": {
            "standoff": 15
           },
           "zerolinecolor": "white",
           "zerolinewidth": 2
          }
         }
        }
       }
      },
      "image/png": "[encoded data removed]",
      "text/html": [
       "<div>                            <div id=\"0c0428b1-fb83-4575-a020-98e4e58abfa3\" class=\"plotly-graph-div\" style=\"height:525px; width:100%;\"></div>            <script type=\"text/javascript\">                require([\"plotly\"], function(Plotly) {                    window.PLOTLYENV=window.PLOTLYENV || {};                                    if (document.getElementById(\"0c0428b1-fb83-4575-a020-98e4e58abfa3\")) {                    Plotly.newPlot(                        \"0c0428b1-fb83-4575-a020-98e4e58abfa3\",                        [{\"dimensions\":[{\"label\":\"Brise Angle\",\"values\":[0.3758550593760923,3.3581738660228155,5.721357044017501,6.643340330589584,7.107211810080711,7.475966292155491,7.5070616761114675,7.874666427638919,11.116356960269185,12.640331831259143,13.142699051890649,13.4273060485455,16.939135925186736,18.676478308787637,19.189353685780024,20.99635638700986,21.219310724162373,21.55913599755048,22.40539345967101,22.59323215803021,23.61858560766524,24.601729740423465,25.174860681762542,25.59608623056185,27.430724577524614,27.489759591950648,28.146058422423316,28.170004426293815,28.34194576493974,28.402414652658326,28.665609588888728,29.473114840492944,29.795205769278954,30.113543339203872,33.285628914351335,33.37101838507548,33.65348569053908,34.83912105154151,36.74478321044829,37.511464744883206,38.23687175123692,38.25017915763638,39.26800832869127,39.505612501049974,40.11412073980231,40.41231037662451,41.9736140027258,42.17456934343925,44.032666067073926,44.19941994556025,44.34949939124529,46.067107875451256,46.394537656347076,47.705084296602465,49.262744615086284,49.86406806446436,50.33892886914961,53.22942507573792,54.86092443174959,57.20519783515505,57.949038589299754,59.04478864142692,59.967592145051995,60.09829069315075,60.505705481137454,62.92577986818236,62.964256469193316,63.190646327219206,63.33739768884131,63.767206148948745,64.3107025458504,64.65893880358013,65.04543762181258,65.37053775535117,66.22241273412673,67.14869308475193,70.00042621836921,70.47790201196317,71.91505913150453,74.39580414081283,74.4719308724398,74.65278845720728,77.44485947924763,79.10329451349799,79.41587984056429,79.61808641229929,80.74240937020828,81.55205051307674,81.70904881282569,81.87382967028975,82.788949301255,83.72666450091664,84.08097664064205,84.41309334268371,85.15600729734632,85.26784182064617,85.8234298338146,87.29066897057349,87.37970328990554,89.33332699123125]},{\"label\":\"Electricity:Facility\",\"values\":[17642.071103635,17635.691372955687,17643.459436208574,17638.50482104017,17638.030681984266,17638.02425378609,17638.023733850307,17641.489166196636,17639.79337757946,17638.73103480846,17643.674434473465,17644.108119305205,17647.00425993981,17658.38409571036,17658.72943790943,17660.998626215434,17660.992362214507,17659.997425846264,17664.300266000533,17664.302801886028,17657.626130353372,17666.732745418136,17666.476533491823,17664.510227080176,17666.91761952969,17666.91903145682,17667.211973521684,17667.212589088864,17668.122503898296,17668.124029484698,17668.470383125215,17669.719580965135,17671.12995410983,17670.021135396808,17670.482463666114,17670.485799221224,17670.04640193191,17675.830035491177,17681.68430561869,17675.524908587133,17670.719153915194,17670.7199018938,17673.637502979855,17673.678183297052,17674.436890731104,17672.696591792188,17674.274749605283,17673.992076522434,17666.488506713944,17664.17986596996,17667.75191803531,17665.112995039042,17660.98608443122,17670.149103875265,17652.07337865652,17653.02771726057,17659.339458391532,17685.934701839687,17680.465785523455,17688.369763362833,17689.815943668844,17687.41778144848,17688.487426384632,17688.41176351702,17691.56976771754,17689.655815067224,17689.659528958462,17689.382489199885,17689.695655716947,17691.379989104702,17688.542091605956,17690.043251160267,17691.264091996658,17694.75880867135,17686.010168557048,17693.457420244216,17706.906198632354,17707.562104020617,17703.651647967374,17697.074143820253,17694.167070930802,17694.752164676152,17699.203140057096,17705.70169459041,17707.415415468415,17707.07754703709,17703.92886823943,17709.90679214744,17709.51938163802,17713.195870253025,17723.358983020422,17724.454088943025,17721.084131566055,17722.112325365724,17724.790541148403,17723.425173113897,17723.175077087173,17720.438018849825,17717.195073443334,17722.981870267995]}],\"domain\":{\"x\":[0.0,1.0],\"y\":[0.0,1.0]},\"line\":{\"color\":[1095.3628521308162,1086.9249249785082,1081.0550907418506,1078.9688105750022,1077.9648611145076,1077.2505088680825,1077.1931559083803,1076.5144604044533,1071.5496122931725,1069.7514824233986,1069.2358808089273,1068.959026451408,1066.62852273053,1066.4763049780481,1066.5633078639898,1067.2677319402903,1067.3986682808813,1067.618055382247,1068.3165816986746,1068.5179924995973,1069.7520612500616,1071.0875474080176,1071.9538356391251,1072.6405220806928,1076.5883886835554,1076.7290304358519,1078.3654227223312,1078.42615941445,1078.8733434187716,1079.0327564188592,1079.735824523323,1082.0084119120618,1082.962406533265,1083.9417063409362,1095.8530548566127,1096.2273909335,1097.5010016494648,1103.1290530885324,1113.2045384293053,1117.5414565054734,1121.78639233128,1121.8636672633995,1128.0256610359836,1129.504633239931,1133.3864332492503,1135.4008880535373,1140.2523409951864,1140.0377109212989,1137.9639345929684,1137.6983394033468,1137.4514078126151,1134.3414579166092,1133.7174868410973,1131.1971890130967,1128.181004728716,1127.0217387148011,1126.1113472371985,1120.8332479137337,1118.135569684345,1114.32560187682,1113.0922641577104,1111.257464786994,1109.6911838638703,1109.4680148275118,1108.7719927758124,1104.6232136734916,1104.5571295865057,1104.1669945935082,1103.9143255351976,1103.1519938568085,1102.2067235628078,1101.58698208456,1100.8983890986106,1100.3184625973504,1098.791994964453,1097.128346445854,1092.0816759143897,1091.2276588495922,1088.6616744531789,1084.165036361532,1084.0268946282404,1083.6983595985573,1078.67301063792,1075.511286984182,1074.917636954544,1074.5351237263367,1072.415227246206,1070.8950079579122,1070.5999097824204,1070.288706401782,1068.8096634961616,1067.48589943962,1066.9861497007428,1066.51860455314,1065.474744831953,1065.3180586386884,1064.516450046127,1062.493389092206,1062.3714020960124,1059.7100177495004],\"coloraxis\":\"coloraxis\"},\"name\":\"\",\"type\":\"parcoords\"}],                        {\"template\":{\"data\":{\"histogram2dcontour\":[{\"type\":\"histogram2dcontour\",\"colorbar\":{\"outlinewidth\":0,\"ticks\":\"\"},\"colorscale\":[[0.0,\"#0d0887\"],[0.1111111111111111,\"#46039f\"],[0.2222222222222222,\"#7201a8\"],[0.3333333333333333,\"#9c179e\"],[0.4444444444444444,\"#bd3786\"],[0.5555555555555556,\"#d8576b\"],[0.6666666666666666,\"#ed7953\"],[0.7777777777777778,\"#fb9f3a\"],[0.8888888888888888,\"#fdca26\"],[1.0,\"#f0f921\"]]}],\"choropleth\":[{\"type\":\"choropleth\",\"colorbar\":{\"outlinewidth\":0,\"ticks\":\"\"}}],\"histogram2d\":[{\"type\":\"histogram2d\",\"colorbar\":{\"outlinewidth\":0,\"ticks\":\"\"},\"colorscale\":[[0.0,\"#0d0887\"],[0.1111111111111111,\"#46039f\"],[0.2222222222222222,\"#7201a8\"],[0.3333333333333333,\"#9c179e\"],[0.4444444444444444,\"#bd3786\"],[0.5555555555555556,\"#d8576b\"],[0.6666666666666666,\"#ed7953\"],[0.7777777777777778,\"#fb9f3a\"],[0.8888888888888888,\"#fdca26\"],[1.0,\"#f0f921\"]]}],\"heatmap\":[{\"type\":\"heatmap\",\"colorbar\":{\"outlinewidth\":0,\"ticks\":\"\"},\"colorscale\":[[0.0,\"#0d0887\"],[0.1111111111111111,\"#46039f\"],[0.2222222222222222,\"#7201a8\"],[0.3333333333333333,\"#9c179e\"],[0.4444444444444444,\"#bd3786\"],[0.5555555555555556,\"#d8576b\"],[0.6666666666666666,\"#ed7953\"],[0.7777777777777778,\"#fb9f3a\"],[0.8888888888888888,\"#fdca26\"],[1.0,\"#f0f921\"]]}],\"heatmapgl\":[{\"type\":\"heatmapgl\",\"colorbar\":{\"outlinewidth\":0,\"ticks\":\"\"},\"colorscale\":[[0.0,\"#0d0887\"],[0.1111111111111111,\"#46039f\"],[0.2222222222222222,\"#7201a8\"],[0.3333333333333333,\"#9c179e\"],[0.4444444444444444,\"#bd3786\"],[0.5555555555555556,\"#d8576b\"],[0.6666666666666666,\"#ed7953\"],[0.7777777777777778,\"#fb9f3a\"],[0.8888888888888888,\"#fdca26\"],[1.0,\"#f0f921\"]]}],\"contourcarpet\":[{\"type\":\"contourcarpet\",\"colorbar\":{\"outlinewidth\":0,\"ticks\":\"\"}}],\"contour\":[{\"type\":\"contour\",\"colorbar\":{\"outlinewidth\":0,\"ticks\":\"\"},\"colorscale\":[[0.0,\"#0d0887\"],[0.1111111111111111,\"#46039f\"],[0.2222222222222222,\"#7201a8\"],[0.3333333333333333,\"#9c179e\"],[0.4444444444444444,\"#bd3786\"],[0.5555555555555556,\"#d8576b\"],[0.6666666666666666,\"#ed7953\"],[0.7777777777777778,\"#fb9f3a\"],[0.8888888888888888,\"#fdca26\"],[1.0,\"#f0f921\"]]}],\"surface\":[{\"type\":\"surface\",\"colorbar\":{\"outlinewidth\":0,\"ticks\":\"\"},\"colorscale\":[[0.0,\"#0d0887\"],[0.1111111111111111,\"#46039f\"],[0.2222222222222222,\"#7201a8\"],[0.3333333333333333,\"#9c179e\"],[0.4444444444444444,\"#bd3786\"],[0.5555555555555556,\"#d8576b\"],[0.6666666666666666,\"#ed7953\"],[0.7777777777777778,\"#fb9f3a\"],[0.8888888888888888,\"#fdca26\"],[1.0,\"#f0f921\"]]}],\"mesh3d\":[{\"type\":\"mesh3d\",\"colorbar\":{\"outlinewidth\":0,\"ticks\":\"\"}}],\"scatter\":[{\"fillpattern\":{\"fillmode\":\"overlay\",\"size\":10,\"solidity\":0.2},\"type\":\"scatter\"}],\"parcoords\":[{\"type\":\"parcoords\",\"line\":{\"colorbar\":{\"outlinewidth\":0,\"ticks\":\"\"}}}],\"scatterpolargl\":[{\"type\":\"scatterpolargl\",\"marker\":{\"colorbar\":{\"outlinewidth\":0,\"ticks\":\"\"}}}],\"bar\":[{\"error_x\":{\"color\":\"#2a3f5f\"},\"error_y\":{\"color\":\"#2a3f5f\"},\"marker\":{\"line\":{\"color\":\"#E5ECF6\",\"width\":0.5},\"pattern\":{\"fillmode\":\"overlay\",\"size\":10,\"solidity\":0.2}},\"type\":\"bar\"}],\"scattergeo\":[{\"type\":\"scattergeo\",\"marker\":{\"colorbar\":{\"outlinewidth\":0,\"ticks\":\"\"}}}],\"scatterpolar\":[{\"type\":\"scatterpolar\",\"marker\":{\"colorbar\":{\"outlinewidth\":0,\"ticks\":\"\"}}}],\"histogram\":[{\"marker\":{\"pattern\":{\"fillmode\":\"overlay\",\"size\":10,\"solidity\":0.2}},\"type\":\"histogram\"}],\"scattergl\":[{\"type\":\"scattergl\",\"marker\":{\"colorbar\":{\"outlinewidth\":0,\"ticks\":\"\"}}}],\"scatter3d\":[{\"type\":\"scatter3d\",\"line\":{\"colorbar\":{\"outlinewidth\":0,\"ticks\":\"\"}},\"marker\":{\"colorbar\":{\"outlinewidth\":0,\"ticks\":\"\"}}}],\"scattermapbox\":[{\"type\":\"scattermapbox\",\"marker\":{\"colorbar\":{\"outlinewidth\":0,\"ticks\":\"\"}}}],\"scatterternary\":[{\"type\":\"scatterternary\",\"marker\":{\"colorbar\":{\"outlinewidth\":0,\"ticks\":\"\"}}}],\"scattercarpet\":[{\"type\":\"scattercarpet\",\"marker\":{\"colorbar\":{\"outlinewidth\":0,\"ticks\":\"\"}}}],\"carpet\":[{\"aaxis\":{\"endlinecolor\":\"#2a3f5f\",\"gridcolor\":\"white\",\"linecolor\":\"white\",\"minorgridcolor\":\"white\",\"startlinecolor\":\"#2a3f5f\"},\"baxis\":{\"endlinecolor\":\"#2a3f5f\",\"gridcolor\":\"white\",\"linecolor\":\"white\",\"minorgridcolor\":\"white\",\"startlinecolor\":\"#2a3f5f\"},\"type\":\"carpet\"}],\"table\":[{\"cells\":{\"fill\":{\"color\":\"#EBF0F8\"},\"line\":{\"color\":\"white\"}},\"header\":{\"fill\":{\"color\":\"#C8D4E3\"},\"line\":{\"color\":\"white\"}},\"type\":\"table\"}],\"barpolar\":[{\"marker\":{\"line\":{\"color\":\"#E5ECF6\",\"width\":0.5},\"pattern\":{\"fillmode\":\"overlay\",\"size\":10,\"solidity\":0.2}},\"type\":\"barpolar\"}],\"pie\":[{\"automargin\":true,\"type\":\"pie\"}]},\"layout\":{\"autotypenumbers\":\"strict\",\"colorway\":[\"#636efa\",\"#EF553B\",\"#00cc96\",\"#ab63fa\",\"#FFA15A\",\"#19d3f3\",\"#FF6692\",\"#B6E880\",\"#FF97FF\",\"#FECB52\"],\"font\":{\"color\":\"#2a3f5f\"},\"hovermode\":\"closest\",\"hoverlabel\":{\"align\":\"left\"},\"paper_bgcolor\":\"white\",\"plot_bgcolor\":\"#E5ECF6\",\"polar\":{\"bgcolor\":\"#E5ECF6\",\"angularaxis\":{\"gridcolor\":\"white\",\"linecolor\":\"white\",\"ticks\":\"\"},\"radialaxis\":{\"gridcolor\":\"white\",\"linecolor\":\"white\",\"ticks\":\"\"}},\"ternary\":{\"bgcolor\":\"#E5ECF6\",\"aaxis\":{\"gridcolor\":\"white\",\"linecolor\":\"white\",\"ticks\":\"\"},\"baxis\":{\"gridcolor\":\"white\",\"linecolor\":\"white\",\"ticks\":\"\"},\"caxis\":{\"gridcolor\":\"white\",\"linecolor\":\"white\",\"ticks\":\"\"}},\"coloraxis\":{\"colorbar\":{\"outlinewidth\":0,\"ticks\":\"\"}},\"colorscale\":{\"sequential\":[[0.0,\"#0d0887\"],[0.1111111111111111,\"#46039f\"],[0.2222222222222222,\"#7201a8\"],[0.3333333333333333,\"#9c179e\"],[0.4444444444444444,\"#bd3786\"],[0.5555555555555556,\"#d8576b\"],[0.6666666666666666,\"#ed7953\"],[0.7777777777777778,\"#fb9f3a\"],[0.8888888888888888,\"#fdca26\"],[1.0,\"#f0f921\"]],\"sequentialminus\":[[0.0,\"#0d0887\"],[0.1111111111111111,\"#46039f\"],[0.2222222222222222,\"#7201a8\"],[0.3333333333333333,\"#9c179e\"],[0.4444444444444444,\"#bd3786\"],[0.5555555555555556,\"#d8576b\"],[0.6666666666666666,\"#ed7953\"],[0.7777777777777778,\"#fb9f3a\"],[0.8888888888888888,\"#fdca26\"],[1.0,\"#f0f921\"]],\"diverging\":[[0,\"#8e0152\"],[0.1,\"#c51b7d\"],[0.2,\"#de77ae\"],[0.3,\"#f1b6da\"],[0.4,\"#fde0ef\"],[0.5,\"#f7f7f7\"],[0.6,\"#e6f5d0\"],[0.7,\"#b8e186\"],[0.8,\"#7fbc41\"],[0.9,\"#4d9221\"],[1,\"#276419\"]]},\"xaxis\":{\"gridcolor\":\"white\",\"linecolor\":\"white\",\"ticks\":\"\",\"title\":{\"standoff\":15},\"zerolinecolor\":\"white\",\"automargin\":true,\"zerolinewidth\":2},\"yaxis\":{\"gridcolor\":\"white\",\"linecolor\":\"white\",\"ticks\":\"\",\"title\":{\"standoff\":15},\"zerolinecolor\":\"white\",\"automargin\":true,\"zerolinewidth\":2},\"scene\":{\"xaxis\":{\"backgroundcolor\":\"#E5ECF6\",\"gridcolor\":\"white\",\"linecolor\":\"white\",\"showbackground\":true,\"ticks\":\"\",\"zerolinecolor\":\"white\",\"gridwidth\":2},\"yaxis\":{\"backgroundcolor\":\"#E5ECF6\",\"gridcolor\":\"white\",\"linecolor\":\"white\",\"showbackground\":true,\"ticks\":\"\",\"zerolinecolor\":\"white\",\"gridwidth\":2},\"zaxis\":{\"backgroundcolor\":\"#E5ECF6\",\"gridcolor\":\"white\",\"linecolor\":\"white\",\"showbackground\":true,\"ticks\":\"\",\"zerolinecolor\":\"white\",\"gridwidth\":2}},\"shapedefaults\":{\"line\":{\"color\":\"#2a3f5f\"}},\"annotationdefaults\":{\"arrowcolor\":\"#2a3f5f\",\"arrowhead\":0,\"arrowwidth\":1},\"geo\":{\"bgcolor\":\"white\",\"landcolor\":\"#E5ECF6\",\"subunitcolor\":\"white\",\"showland\":true,\"showlakes\":true,\"lakecolor\":\"white\"},\"title\":{\"x\":0.05},\"mapbox\":{\"style\":\"light\"}}},\"coloraxis\":{\"colorbar\":{\"title\":{\"text\":\"ElectricityProduced:Facility\"}},\"colorscale\":[[0.0,\"rgb(0,0,131)\"],[0.2,\"rgb(0,60,170)\"],[0.4,\"rgb(5,255,255)\"],[0.6,\"rgb(255,255,0)\"],[0.8,\"rgb(250,0,0)\"],[1.0,\"rgb(128,0,0)\"]]},\"legend\":{\"tracegroupgap\":0},\"margin\":{\"t\":60}},                        {\"responsive\": true}                    ).then(function(){\n",
       "                            \n",
       "var gd = document.getElementById('0c0428b1-fb83-4575-a020-98e4e58abfa3');\n",
       "var x = new MutationObserver(function (mutations, observer) {{\n",
       "        var display = window.getComputedStyle(gd).display;\n",
       "        if (!display || display === 'none') {{\n",
       "            console.log([gd, 'removed!']);\n",
       "            Plotly.purge(gd);\n",
       "            observer.disconnect();\n",
       "        }}\n",
       "}});\n",
       "\n",
       "// Listen for the removal of the full notebook cells\n",
       "var notebookContainer = gd.closest('#notebook-container');\n",
       "if (notebookContainer) {{\n",
       "    x.observe(notebookContainer, {childList: true});\n",
       "}}\n",
       "\n",
       "// Listen for the clearing of the current output cell\n",
       "var outputEl = gd.closest('.output');\n",
       "if (outputEl) {{\n",
       "    x.observe(outputEl, {childList: true});\n",
       "}}\n",
       "\n",
       "                        })                };                });            </script>        </div>"
      ]
     },
     "metadata": {},
     "output_type": "display_data"
    }
   ],
   "source": [
    "import plotly\n",
    "import numpy\n",
    "#results.iteritems = df.items\n",
    "#results.rename(columns={'RangeParameter [0.1, 0.9]': 'RangeParameter'}, inplace=True)\n",
    "\n",
    "plotly.offline.init_notebook_mode(connected=True)\n",
    "import plotly.express as px\n",
    "fig = px.parallel_coordinates(results,color=\"ElectricityProduced:Facility\", dimensions=[\n",
    "    \"Brise Angle\",\"Electricity:Facility\"],\n",
    "    color_continuous_scale=px.colors.sequential.Jet)\n",
    "fig.show()"
   ]
  },
  {
   "cell_type": "code",
   "execution_count": null,
   "id": "45d2f9ec-b153-40d9-aee0-9a72f41ffdab",
   "metadata": {},
   "outputs": [],
   "source": []
  }
 ],
 "metadata": {
  "kernelspec": {
   "display_name": "Python 3 (ipykernel)",
   "language": "python",
   "name": "python3"
  },
  "language_info": {
   "codemirror_mode": {
    "name": "ipython",
    "version": 3
   },
   "file_extension": ".py",
   "mimetype": "text/x-python",
   "name": "python",
   "nbconvert_exporter": "python",
   "pygments_lexer": "ipython3",
   "version": "3.10.0"
  }
 },
 "nbformat": 4,
 "nbformat_minor": 5
}
