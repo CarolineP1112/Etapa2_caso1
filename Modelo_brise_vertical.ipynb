{
 "cells": [
  {
   "cell_type": "code",
   "execution_count": 1,
   "id": "35d80ccf",
   "metadata": {},
   "outputs": [
    {
     "name": "stderr",
     "output_type": "stream",
     "text": [
      "C:\\Users\\carol\\AppData\\Local\\Programs\\Python\\Python310\\lib\\site-packages\\tqdm\\auto.py:21: TqdmWarning: IProgress not found. Please update jupyter and ipywidgets. See https://ipywidgets.readthedocs.io/en/stable/user_install.html\n",
      "  from .autonotebook import tqdm as notebook_tqdm\n"
     ]
    }
   ],
   "source": [
    "from besos import eppy_funcs as ef, optimizer\n",
    "from besos import eplus_funcs as ep\n",
    "from besos.problem import EPProblem\n",
    "from besos.parameters import expand_plist\n",
    "from besos.objectives import *\n",
    "from besos.evaluator import EvaluatorEP\n",
    "from besos.parameters import wwr, RangeParameter, FieldSelector, FilterSelector, GenericSelector, Parameter, expand_plist, wwrSelector\n",
    "from besos.optimizer import NSGAII, SPEA2\n",
    "from platypus.evaluator import MapEvaluator\n",
    "from besos.objectives import MeterReader,time_series_values,EPResults\n",
    "import platypus\n",
    "import pandas as pd\n",
    "import matplotlib.pyplot as plt\n",
    "from datetime import datetime\n",
    "from dask.distributed import Client\n",
    "import math"
   ]
  },
  {
   "cell_type": "code",
   "execution_count": 2,
   "id": "bbd3f0c8",
   "metadata": {},
   "outputs": [],
   "source": [
    "building = ef.get_building('Modelo_teste_Brise_vertical_0graus.idf')"
   ]
  },
  {
   "cell_type": "code",
   "execution_count": 14,
   "id": "917a18e7-f2f2-4e0a-9208-e7028e556479",
   "metadata": {},
   "outputs": [],
   "source": [
    "# 2) Criar o parâmetro do ângulo do brise (variável de decisão)\n",
    "\n",
    "param_angle = Parameter(\n",
    "    name=\"Brise Angle\",\n",
    "    value_descriptors=RangeParameter(min_val=0, max_val=90)\n",
    ")\n",
    "\n",
    "parameters = [param_angle]\n",
    "\n",
    "# 3) Criar os objetivos\n",
    "EPobjectives = ['ElectricityProduced:Facility','Electricity:Facility']  \n",
    "besos_problem = EPProblem(parameters, EPobjectives, minimize_outputs=[False,True])  # Criando uma instância do problema;\n",
    "\n",
    "# 4) Criar um Selector personalizado para converter ângulo em coordenadas\n",
    "from besos.parameters import Selector\n",
    "\n",
    "class BriseSelector(Selector):\n",
    "    def get(self, building):\n",
    "        return 0.0  # Valor inicial do ângulo, não usado diretamente\n",
    "\n",
    "    def set(self, building, angle):\n",
    "        \"\"\"Recebe o ângulo e aplica as coordenadas calculadas no IDF.\"\"\"\n",
    "        base_length = 1.03  # Comprimento do brise\n",
    "        x = 6.62-(base_length * math.sin(math.radians(angle)))\n",
    "        y = -base_length * math.cos(math.radians(angle))\n",
    "\n",
    "        # Acessar o objeto \"Brise horizontal\" no IDF\n",
    "        shading_obj = building.getobject(\"Shading:Building:Detailed\", \"Brise Vertical\")\n",
    "        \n",
    "        # Atualizar as coordenadas dos vértices 2 e 3\n",
    "        shading_obj[\"Vertex_1_Xcoordinate\"] = x\n",
    "        shading_obj[\"Vertex_2_Xcoordinate\"] = x\n",
    "        shading_obj[\"Vertex_1_Ycoordinate\"] = y\n",
    "        shading_obj[\"Vertex_2_Ycoordinate\"] = y\n",
    "\n",
    "# 5) Criar o parâmetro com o Selector personalizado\n",
    "param_brise = Parameter(\n",
    "    selector=BriseSelector(),\n",
    "    name=\"Brise Angle\",\n",
    "    value_descriptors=RangeParameter(min_val=0, max_val=90)\n",
    ")\n",
    "\n",
    "parameters = [param_brise]\n",
    "\n",
    "besos_problem = EPProblem(parameters, EPobjectives, minimize_outputs=[False,True])  # Criando uma instância do problema;\n",
    "\n"
   ]
  },
  {
   "cell_type": "code",
   "execution_count": 15,
   "id": "6124ac3f-3a87-4eba-8ce3-2bbf8c830274",
   "metadata": {},
   "outputs": [
    {
     "name": "stdout",
     "output_type": "stream",
     "text": [
      "Running EnergyPlus with stdout output suppressed...\n",
      "Running EnergyPlus with stdout output suppressed...\n",
      "Running EnergyPlus with stdout output suppressed...\n",
      "Running EnergyPlus with stdout output suppressed...\n",
      "Running EnergyPlus with stdout output suppressed...\n",
      "Running EnergyPlus with stdout output suppressed...\n",
      "Running EnergyPlus with stdout output suppressed...\n",
      "Running EnergyPlus with stdout output suppressed...\n",
      "Running EnergyPlus with stdout output suppressed...\n",
      "Running EnergyPlus with stdout output suppressed...\n",
      "Running EnergyPlus with stdout output suppressed...\n",
      "Running EnergyPlus with stdout output suppressed...\n",
      "Running EnergyPlus with stdout output suppressed...\n",
      "Running EnergyPlus with stdout output suppressed...\n",
      "Running EnergyPlus with stdout output suppressed...\n",
      "Running EnergyPlus with stdout output suppressed...\n",
      "Running EnergyPlus with stdout output suppressed...\n",
      "Running EnergyPlus with stdout output suppressed...\n",
      "Running EnergyPlus with stdout output suppressed...\n",
      "Running EnergyPlus with stdout output suppressed...\n",
      "Running EnergyPlus with stdout output suppressed...\n",
      "Running EnergyPlus with stdout output suppressed...\n",
      "Running EnergyPlus with stdout output suppressed...\n",
      "Running EnergyPlus with stdout output suppressed...\n",
      "Running EnergyPlus with stdout output suppressed...\n",
      "Running EnergyPlus with stdout output suppressed...\n",
      "Running EnergyPlus with stdout output suppressed...\n",
      "Running EnergyPlus with stdout output suppressed...\n",
      "Running EnergyPlus with stdout output suppressed...\n",
      "Running EnergyPlus with stdout output suppressed...\n",
      "Running EnergyPlus with stdout output suppressed...\n",
      "Running EnergyPlus with stdout output suppressed...\n",
      "Running EnergyPlus with stdout output suppressed...\n",
      "Running EnergyPlus with stdout output suppressed...\n",
      "Running EnergyPlus with stdout output suppressed...\n",
      "Running EnergyPlus with stdout output suppressed...\n",
      "Running EnergyPlus with stdout output suppressed...\n",
      "Running EnergyPlus with stdout output suppressed...\n",
      "Running EnergyPlus with stdout output suppressed...\n",
      "Running EnergyPlus with stdout output suppressed...\n",
      "Running EnergyPlus with stdout output suppressed...\n",
      "Running EnergyPlus with stdout output suppressed...\n",
      "Running EnergyPlus with stdout output suppressed...\n",
      "Running EnergyPlus with stdout output suppressed...\n",
      "Running EnergyPlus with stdout output suppressed...\n",
      "Running EnergyPlus with stdout output suppressed...\n",
      "Running EnergyPlus with stdout output suppressed...\n",
      "Running EnergyPlus with stdout output suppressed...\n",
      "Running EnergyPlus with stdout output suppressed...\n",
      "Running EnergyPlus with stdout output suppressed...\n",
      "Running EnergyPlus with stdout output suppressed...\n",
      "Running EnergyPlus with stdout output suppressed...\n",
      "Running EnergyPlus with stdout output suppressed...\n",
      "Running EnergyPlus with stdout output suppressed...\n",
      "Running EnergyPlus with stdout output suppressed...\n",
      "Running EnergyPlus with stdout output suppressed...\n",
      "Running EnergyPlus with stdout output suppressed...\n",
      "Running EnergyPlus with stdout output suppressed...\n",
      "Running EnergyPlus with stdout output suppressed...\n",
      "Running EnergyPlus with stdout output suppressed...\n",
      "Running EnergyPlus with stdout output suppressed...\n",
      "Running EnergyPlus with stdout output suppressed...\n",
      "Running EnergyPlus with stdout output suppressed...\n",
      "Running EnergyPlus with stdout output suppressed...\n",
      "Running EnergyPlus with stdout output suppressed...\n",
      "Running EnergyPlus with stdout output suppressed...\n",
      "Running EnergyPlus with stdout output suppressed...\n",
      "Running EnergyPlus with stdout output suppressed...\n",
      "Running EnergyPlus with stdout output suppressed...\n",
      "Running EnergyPlus with stdout output suppressed...\n",
      "Running EnergyPlus with stdout output suppressed...\n",
      "Running EnergyPlus with stdout output suppressed...\n",
      "Running EnergyPlus with stdout output suppressed...\n",
      "Running EnergyPlus with stdout output suppressed...\n",
      "Running EnergyPlus with stdout output suppressed...\n",
      "Running EnergyPlus with stdout output suppressed...\n",
      "Running EnergyPlus with stdout output suppressed...\n",
      "Running EnergyPlus with stdout output suppressed...\n",
      "Running EnergyPlus with stdout output suppressed...\n",
      "Running EnergyPlus with stdout output suppressed...\n",
      "Running EnergyPlus with stdout output suppressed...\n",
      "Running EnergyPlus with stdout output suppressed...\n",
      "Running EnergyPlus with stdout output suppressed...\n",
      "Running EnergyPlus with stdout output suppressed...\n",
      "Running EnergyPlus with stdout output suppressed...\n",
      "Running EnergyPlus with stdout output suppressed...\n",
      "Running EnergyPlus with stdout output suppressed...\n",
      "Running EnergyPlus with stdout output suppressed...\n",
      "Running EnergyPlus with stdout output suppressed...\n",
      "Running EnergyPlus with stdout output suppressed...\n",
      "Running EnergyPlus with stdout output suppressed...\n",
      "Running EnergyPlus with stdout output suppressed...\n",
      "Running EnergyPlus with stdout output suppressed...\n",
      "Running EnergyPlus with stdout output suppressed...\n",
      "Running EnergyPlus with stdout output suppressed...\n",
      "Running EnergyPlus with stdout output suppressed...\n",
      "Running EnergyPlus with stdout output suppressed...\n",
      "Running EnergyPlus with stdout output suppressed...\n",
      "Running EnergyPlus with stdout output suppressed...\n",
      "Running EnergyPlus with stdout output suppressed...\n",
      "0:05:05.652320\n",
      "Variáveis de decisão: [70.85611393709118]\n",
      "Objetivos: [779964923.0789766, 15445493040.124857]\n",
      "Variáveis de decisão: [24.70738474729736]\n",
      "Objetivos: [1075006263.6272047, 15439452798.331387]\n",
      "Variáveis de decisão: [50.3094180340029]\n",
      "Objetivos: [898769349.9103954, 15439135191.643785]\n",
      "Variáveis de decisão: [48.36549858691986]\n",
      "Objetivos: [911680662.5592303, 15438838545.191223]\n",
      "Variáveis de decisão: [39.39345610291204]\n",
      "Objetivos: [972982753.4431466, 15437881912.108503]\n",
      "Variáveis de decisão: [65.28433708707844]\n",
      "Objetivos: [808325860.9880066, 15443190972.679028]\n",
      "Variáveis de decisão: [51.642283566970825]\n",
      "Objetivos: [890080773.058652, 15439372822.649134]\n",
      "Variáveis de decisão: [66.79522353891332]\n",
      "Objetivos: [800361440.88361, 15443748224.629591]\n",
      "Variáveis de decisão: [7.788896743088927]\n",
      "Objetivos: [1183728265.9181736, 15440998598.089508]\n",
      "Variáveis de decisão: [78.77370279811342]\n",
      "Objetivos: [745701130.7437441, 15449659816.659441]\n",
      "Variáveis de decisão: [58.56831772935525]\n",
      "Objetivos: [846580214.463388, 15440991473.107986]\n",
      "Variáveis de decisão: [62.484176416518544]\n",
      "Objetivos: [823727674.6148582, 15442274377.317421]\n",
      "Variáveis de decisão: [8.971644066560922]\n",
      "Objetivos: [1176676848.603761, 15440832826.950144]\n",
      "Variáveis de decisão: [37.650956526714744]\n",
      "Objetivos: [985059002.6239967, 15437742341.501377]\n",
      "Variáveis de decisão: [84.14176412265577]\n",
      "Objetivos: [727436464.494591, 15453134031.266893]\n",
      "Variáveis de decisão: [53.05044565260252]\n",
      "Objetivos: [880942218.4785138, 15439649144.183819]\n",
      "Variáveis de decisão: [65.17934065995244]\n",
      "Objetivos: [808882619.5371556, 15443157607.507105]\n",
      "Variáveis de decisão: [51.659193891865236]\n",
      "Objetivos: [889971146.4663455, 15439375994.295834]\n",
      "Variáveis de decisão: [10.030708771542308]\n",
      "Objetivos: [1170274841.5835474, 15440710093.427202]\n",
      "Variáveis de decisão: [22.483712722128214]\n",
      "Objetivos: [1090153892.9290028, 15439620815.023388]\n",
      "Variáveis de decisão: [65.11025113867908]\n",
      "Objetivos: [809249043.3291593, 15443133379.61433]\n",
      "Variáveis de decisão: [68.10115018777857]\n",
      "Objetivos: [793591755.7644539, 15444262310.466417]\n",
      "Variáveis de decisão: [37.80599849817798]\n",
      "Objetivos: [983982397.3159395, 15437753374.054428]\n",
      "Variáveis de decisão: [71.59417967400547]\n",
      "Objetivos: [776470373.3238711, 15445843969.24726]\n",
      "Variáveis de decisão: [69.38535479179657]\n",
      "Objetivos: [787179678.5542653, 15444810454.673807]\n",
      "Variáveis de decisão: [53.88485461348583]\n",
      "Objetivos: [875629598.7124363, 15439824778.539066]\n",
      "Variáveis de decisão: [58.726912445321396]\n",
      "Objetivos: [845628014.1116655, 15441036586.137863]\n",
      "Variáveis de decisão: [13.458373411752785]\n",
      "Objetivos: [1149173515.8512657, 15440225905.09475]\n",
      "Variáveis de decisão: [66.56021827411602]\n",
      "Objetivos: [801588794.0685792, 15443658750.98275]\n",
      "Variáveis de decisão: [89.89124144744898]\n",
      "Objetivos: [713908252.4490699, 15456226598.756447]\n",
      "Variáveis de decisão: [17.875878920379833]\n",
      "Objetivos: [1120808507.6689203, 15439942698.416063]\n",
      "Variáveis de decisão: [58.577051500720465]\n",
      "Objetivos: [846528154.1181754, 15440993985.585726]\n",
      "Variáveis de decisão: [46.21810040600755]\n",
      "Objetivos: [926059191.1138524, 15438570902.096434]\n",
      "Variáveis de decisão: [44.86699331600925]\n",
      "Objetivos: [935254720.0350027, 15438432064.31358]\n",
      "Variáveis de decisão: [38.94580008566322]\n",
      "Objetivos: [976086742.9308683, 15437843483.725718]\n",
      "Variáveis de decisão: [80.21318517185371]\n",
      "Objetivos: [740379768.6578012, 15450558704.728045]\n",
      "Variáveis de decisão: [3.2746255773476296]\n",
      "Objetivos: [1209544596.6371603, 15441632773.245882]\n",
      "Variáveis de decisão: [84.09617400586556]\n",
      "Objetivos: [727569611.754282, 15453107863.455763]\n",
      "Variáveis de decisão: [7.309243115899583]\n",
      "Objetivos: [1186578972.7932987, 15441059933.63971]\n",
      "Variáveis de decisão: [77.1727706235422]\n",
      "Objetivos: [751965750.8549738, 15448715142.138786]\n",
      "Variáveis de decisão: [56.88610637943842]\n",
      "Objetivos: [856845271.5049032, 15440534942.988834]\n",
      "Variáveis de decisão: [59.81935742661893]\n",
      "Objetivos: [839128681.6647389, 15441357904.425026]\n",
      "Variáveis de decisão: [86.17194371128389]\n",
      "Objetivos: [721865422.4777777, 15454337244.813368]\n",
      "Variáveis de decisão: [68.48202206148008]\n",
      "Objetivos: [791691078.2164361, 15444419896.127983]\n",
      "Variáveis de decisão: [88.16788042767749]\n",
      "Objetivos: [717243150.2153552, 15455423511.066229]\n",
      "Variáveis de decisão: [63.03819239124464]\n",
      "Objetivos: [820665290.6216903, 15442443873.322952]\n",
      "Variáveis de decisão: [39.0778478102737]\n",
      "Objetivos: [975172957.8215537, 15437854576.150309]\n",
      "Variáveis de decisão: [31.186634769146366]\n",
      "Objetivos: [1030240280.358272, 15437492176.657036]\n",
      "Variáveis de decisão: [23.228634224330087]\n",
      "Objetivos: [1085108968.938401, 15439560082.697884]\n",
      "Variáveis de decisão: [46.82583111000929]\n",
      "Objetivos: [921976590.0683186, 15438639975.176113]\n",
      "Variáveis de decisão: [48.16022531402917]\n",
      "Objetivos: [913048489.1076446, 15438810354.049772]\n",
      "Variáveis de decisão: [74.9451066549851]\n",
      "Objetivos: [761293364.8395272, 15447524038.000786]\n",
      "Variáveis de decisão: [13.79545271985383]\n",
      "Objetivos: [1147051780.5237973, 15440196206.351698]\n",
      "Variáveis de decisão: [4.477173333249147]\n",
      "Objetivos: [1202844114.3385332, 15441451901.471504]\n",
      "Variáveis de decisão: [4.99936582747331]\n",
      "Objetivos: [1199888894.6686842, 15441376241.751537]\n",
      "Variáveis de decisão: [64.80420269058172]\n",
      "Objetivos: [810948526.8000768, 15443024910.234264]\n",
      "Variáveis de decisão: [21.69451794444558]\n",
      "Objetivos: [1095448736.6951485, 15439690092.6642]\n",
      "Variáveis de decisão: [3.3315035917519387]\n",
      "Objetivos: [1209232150.3518085, 15441623944.347181]\n",
      "Variáveis de decisão: [55.44078672500742]\n",
      "Objetivos: [865795468.8459443, 15440175820.561428]\n",
      "Variáveis de decisão: [84.49164377771206]\n",
      "Objetivos: [726427107.9437261, 15453338321.980951]\n",
      "Variáveis de decisão: [28.213172161662705]\n",
      "Objetivos: [1050891847.1890761, 15439235016.559277]\n",
      "Variáveis de decisão: [58.70481562393934]\n",
      "Objetivos: [845759328.4413635, 15441030283.662264]\n",
      "Variáveis de decisão: [46.61106269784672]\n",
      "Objetivos: [923421554.4258786, 15438614900.97924]\n",
      "Variáveis de decisão: [2.0699766490318727]\n",
      "Objetivos: [1216120824.4070015, 15441823171.856785]\n",
      "Variáveis de decisão: [25.519077108295054]\n",
      "Objetivos: [1069425856.7775335, 15439401923.795092]\n",
      "Variáveis de decisão: [25.308169005261345]\n",
      "Objetivos: [1070872521.5148742, 15439414554.611137]\n",
      "Variáveis de decisão: [13.027872841055423]\n",
      "Objetivos: [1151860568.5540333, 15440264911.706577]\n",
      "Variáveis de decisão: [52.85236217165718]\n",
      "Objetivos: [882225068.7479385, 15439608392.62811]\n",
      "Variáveis de decisão: [7.77085509853971]\n",
      "Objetivos: [1183834962.312918, 15441000927.704094]\n",
      "Variáveis de decisão: [59.95792490941939]\n",
      "Objetivos: [838289109.8542682, 15441440567.567076]\n",
      "Variáveis de decisão: [48.50428822379008]\n",
      "Objetivos: [910754537.0068666, 15438858160.661972]\n",
      "Variáveis de decisão: [8.893178003613036]\n",
      "Objetivos: [1177146418.8984845, 15440842088.312035]\n",
      "Variáveis de decisão: [28.9326072972138]\n",
      "Objetivos: [1045921120.2434025, 15437519262.327726]\n",
      "Variáveis de decisão: [18.396692282303466]\n",
      "Objetivos: [1117400450.7834327, 15439920644.984669]\n",
      "Variáveis de decisão: [53.06619346843075]\n",
      "Objetivos: [880842282.3873503, 15439652407.910908]\n",
      "Variáveis de decisão: [17.19241675064567]\n",
      "Objetivos: [1125251440.6435552, 15439973894.731136]\n",
      "Variáveis de decisão: [25.97622652445969]\n",
      "Objetivos: [1066286937.9381127, 15439375747.288816]\n",
      "Variáveis de decisão: [15.439258806303734]\n",
      "Objetivos: [1136587115.8356848, 15440069298.193823]\n",
      "Variáveis de decisão: [61.74450108453329]\n",
      "Objetivos: [827948412.4469535, 15442037494.28761]\n",
      "Variáveis de decisão: [67.26996407993617]\n",
      "Objetivos: [797883887.0604963, 15443926784.71322]\n",
      "Variáveis de decisão: [69.65687060552207]\n",
      "Objetivos: [785847604.2598414, 15444931655.166285]\n",
      "Variáveis de decisão: [59.27306340500893]\n",
      "Objetivos: [842379466.6573126, 15441194859.324692]\n",
      "Variáveis de decisão: [51.034965920006364]\n",
      "Objetivos: [894022363.2674273, 15439261625.99877]\n",
      "Variáveis de decisão: [40.85894312397673]\n",
      "Objetivos: [962773517.4287406, 15438021480.23044]\n",
      "Variáveis de decisão: [3.198111773910395]\n",
      "Objetivos: [1209968356.7636642, 15441644536.572815]\n",
      "Variáveis de decisão: [14.408898423657755]\n",
      "Objetivos: [1143173709.8623402, 15440144527.012163]\n",
      "Variáveis de decisão: [69.62094453576543]\n",
      "Objetivos: [786023871.3668501, 15444915562.969429]\n",
      "Variáveis de decisão: [20.566563109101047]\n",
      "Objetivos: [1102960222.9873307, 15439798028.942963]\n",
      "Variáveis de decisão: [87.81453283241112]\n",
      "Objetivos: [718024003.8627554, 15455216711.616432]\n",
      "Variáveis de decisão: [78.95103897176482]\n",
      "Objetivos: [744989100.4516149, 15449771458.93253]\n",
      "Variáveis de decisão: [1.2666638677095354]\n",
      "Objetivos: [1220414011.3258436, 15441955344.778276]\n",
      "Variáveis de decisão: [50.08542905003792]\n",
      "Objetivos: [900229189.0941033, 15439098326.703533]\n",
      "Variáveis de decisão: [21.080843398275487]\n",
      "Objetivos: [1099545636.029514, 15439747561.362244]\n",
      "Variáveis de decisão: [49.539373546511925]\n",
      "Objetivos: [903842391.6279124, 15439011705.782375]\n",
      "Variáveis de decisão: [57.336071908799404]\n",
      "Objetivos: [854076724.1941357, 15440653229.757648]\n",
      "Variáveis de decisão: [70.22619791770197]\n",
      "Objetivos: [783036770.2293246, 15445198310.498472]\n",
      "Variáveis de decisão: [30.594764603068548]\n",
      "Objetivos: [1034377969.0946528, 15437490701.65044]\n",
      "Variáveis de decisão: [8.844166104851439]\n",
      "Objetivos: [1177444020.5334377, 15440848030.205164]\n",
      "Variáveis de decisão: [33.41743654379445]\n",
      "Objetivos: [1014660808.3542448, 15437529681.165674]\n",
      "Variáveis de decisão: [40.786271328715515]\n",
      "Objetivos: [963293488.8233587, 15438014108.368446]\n"
     ]
    }
   ],
   "source": [
    "from platypus import NSGAII, Real, Problem\n",
    "from datetime import datetime\n",
    "from besos.evaluator import EvaluatorEP, Problem\n",
    "\n",
    "\n",
    "evaluator = EvaluatorEP(problem=besos_problem, building=building, epw=\"RS_Pelotas.epw\", err_dir='errdir')\n",
    "\n",
    "# Função para congelar (hash) valores, convertendo FixedLengthArray em tupla\n",
    "def custom_freeze(value):\n",
    "    if isinstance(value, FixedLengthArray):\n",
    "        return tuple(value)  # Converte FixedLengthArray em tupla\n",
    "    elif isinstance(value, list):\n",
    "        return tuple(custom_freeze(v) for v in value)\n",
    "    else:\n",
    "        return value\n",
    "\n",
    "# Substituir _freeze do besos pelo custom_freeze\n",
    "import besos.evaluator\n",
    "#besos.evaluator._freeze = custom_freeze\n",
    "# Redefinir o cache em cada chamada para contornar o problema\n",
    "\n",
    "original_call = besos.evaluator.AbstractEvaluator.__call__\n",
    "def call_no_cache(self, values, **kwargs):\n",
    "    self._cache = {}  # Reiniciar o cache para evitar erro de hash\n",
    "    return original_call(self, values, **kwargs)\n",
    "\n",
    "besos.evaluator.AbstractEvaluator.__call__ = call_no_cache\n",
    " #Criar uma função wrapper para evitar o uso de cache\n",
    "class NoCacheEvaluator(EvaluatorEP):\n",
    "    def __call__(self, values, **kwargs):\n",
    "        # Apenas executa a avaliação sem cache\n",
    "        return self.eval_single(values)  # Aqui, chamamos diretamente o método sem modificar o cache\n",
    "\n",
    "# Substituir o avaliador original pelo sem cache\n",
    "evaluator = NoCacheEvaluator(problem=besos_problem, building=building, epw=\"RS_Pelotas.epw\", err_dir='errdir')\n",
    "\n",
    "\n",
    "# Iniciar o NSGAII\n",
    "startTime = datetime.now()\n",
    "algorithm = NSGAII(evaluator.to_platypus(), population_size=100, expand_objects=True)\n",
    "algorithm.run(30)  \n",
    "print(datetime.now() - startTime)\n",
    "results = algorithm.result\n",
    "# Capturar e imprimir os resultados\n",
    "for solution in results:\n",
    "    \n",
    "    print(\"Variáveis de decisão:\", solution.variables)\n",
    "    print(\"Objetivos:\", solution.objectives)\n",
    "    "
   ]
  },
  {
   "cell_type": "code",
   "execution_count": 16,
   "id": "6991f868-6e55-4189-8690-6e6e5437b817",
   "metadata": {},
   "outputs": [
    {
     "data": {
      "text/html": [
       "<div>\n",
       "<style scoped>\n",
       "    .dataframe tbody tr th:only-of-type {\n",
       "        vertical-align: middle;\n",
       "    }\n",
       "\n",
       "    .dataframe tbody tr th {\n",
       "        vertical-align: top;\n",
       "    }\n",
       "\n",
       "    .dataframe thead th {\n",
       "        text-align: right;\n",
       "    }\n",
       "</style>\n",
       "<table border=\"1\" class=\"dataframe\">\n",
       "  <thead>\n",
       "    <tr style=\"text-align: right;\">\n",
       "      <th></th>\n",
       "      <th>Brise Angle</th>\n",
       "      <th>ElectricityProduced:Facility</th>\n",
       "      <th>Electricity:Facility</th>\n",
       "      <th>pareto-optimal</th>\n",
       "    </tr>\n",
       "  </thead>\n",
       "  <tbody>\n",
       "    <tr>\n",
       "      <th>0</th>\n",
       "      <td>1.266664</td>\n",
       "      <td>1.220414e+09</td>\n",
       "      <td>1.544196e+10</td>\n",
       "      <td>True</td>\n",
       "    </tr>\n",
       "    <tr>\n",
       "      <th>1</th>\n",
       "      <td>2.069977</td>\n",
       "      <td>1.216121e+09</td>\n",
       "      <td>1.544182e+10</td>\n",
       "      <td>True</td>\n",
       "    </tr>\n",
       "    <tr>\n",
       "      <th>2</th>\n",
       "      <td>3.198112</td>\n",
       "      <td>1.209968e+09</td>\n",
       "      <td>1.544164e+10</td>\n",
       "      <td>True</td>\n",
       "    </tr>\n",
       "    <tr>\n",
       "      <th>3</th>\n",
       "      <td>3.274626</td>\n",
       "      <td>1.209545e+09</td>\n",
       "      <td>1.544163e+10</td>\n",
       "      <td>True</td>\n",
       "    </tr>\n",
       "    <tr>\n",
       "      <th>4</th>\n",
       "      <td>3.331504</td>\n",
       "      <td>1.209232e+09</td>\n",
       "      <td>1.544162e+10</td>\n",
       "      <td>True</td>\n",
       "    </tr>\n",
       "    <tr>\n",
       "      <th>...</th>\n",
       "      <td>...</td>\n",
       "      <td>...</td>\n",
       "      <td>...</td>\n",
       "      <td>...</td>\n",
       "    </tr>\n",
       "    <tr>\n",
       "      <th>95</th>\n",
       "      <td>84.491644</td>\n",
       "      <td>7.264271e+08</td>\n",
       "      <td>1.545334e+10</td>\n",
       "      <td>False</td>\n",
       "    </tr>\n",
       "    <tr>\n",
       "      <th>96</th>\n",
       "      <td>86.171944</td>\n",
       "      <td>7.218654e+08</td>\n",
       "      <td>1.545434e+10</td>\n",
       "      <td>False</td>\n",
       "    </tr>\n",
       "    <tr>\n",
       "      <th>97</th>\n",
       "      <td>87.814533</td>\n",
       "      <td>7.180240e+08</td>\n",
       "      <td>1.545522e+10</td>\n",
       "      <td>False</td>\n",
       "    </tr>\n",
       "    <tr>\n",
       "      <th>98</th>\n",
       "      <td>88.167880</td>\n",
       "      <td>7.172432e+08</td>\n",
       "      <td>1.545542e+10</td>\n",
       "      <td>False</td>\n",
       "    </tr>\n",
       "    <tr>\n",
       "      <th>99</th>\n",
       "      <td>89.891241</td>\n",
       "      <td>7.139083e+08</td>\n",
       "      <td>1.545623e+10</td>\n",
       "      <td>False</td>\n",
       "    </tr>\n",
       "  </tbody>\n",
       "</table>\n",
       "<p>100 rows × 4 columns</p>\n",
       "</div>"
      ],
      "text/plain": [
       "    Brise Angle  ElectricityProduced:Facility  Electricity:Facility  \\\n",
       "0      1.266664                  1.220414e+09          1.544196e+10   \n",
       "1      2.069977                  1.216121e+09          1.544182e+10   \n",
       "2      3.198112                  1.209968e+09          1.544164e+10   \n",
       "3      3.274626                  1.209545e+09          1.544163e+10   \n",
       "4      3.331504                  1.209232e+09          1.544162e+10   \n",
       "..          ...                           ...                   ...   \n",
       "95    84.491644                  7.264271e+08          1.545334e+10   \n",
       "96    86.171944                  7.218654e+08          1.545434e+10   \n",
       "97    87.814533                  7.180240e+08          1.545522e+10   \n",
       "98    88.167880                  7.172432e+08          1.545542e+10   \n",
       "99    89.891241                  7.139083e+08          1.545623e+10   \n",
       "\n",
       "    pareto-optimal  \n",
       "0             True  \n",
       "1             True  \n",
       "2             True  \n",
       "3             True  \n",
       "4             True  \n",
       "..             ...  \n",
       "95           False  \n",
       "96           False  \n",
       "97           False  \n",
       "98           False  \n",
       "99           False  \n",
       "\n",
       "[100 rows x 4 columns]"
      ]
     },
     "execution_count": 16,
     "metadata": {},
     "output_type": "execute_result"
    }
   ],
   "source": [
    "results = optimizer.solutions_to_df(algorithm.result, problem=besos_problem, parts=[\"inputs\", \"outputs\"])\n",
    "results"
   ]
  },
  {
   "cell_type": "code",
   "execution_count": 17,
   "id": "41375706",
   "metadata": {},
   "outputs": [
    {
     "data": {
      "text/html": [
       "<div>\n",
       "<style scoped>\n",
       "    .dataframe tbody tr th:only-of-type {\n",
       "        vertical-align: middle;\n",
       "    }\n",
       "\n",
       "    .dataframe tbody tr th {\n",
       "        vertical-align: top;\n",
       "    }\n",
       "\n",
       "    .dataframe thead th {\n",
       "        text-align: right;\n",
       "    }\n",
       "</style>\n",
       "<table border=\"1\" class=\"dataframe\">\n",
       "  <thead>\n",
       "    <tr style=\"text-align: right;\">\n",
       "      <th></th>\n",
       "      <th>Brise Angle</th>\n",
       "      <th>ElectricityProduced:Facility</th>\n",
       "      <th>Electricity:Facility</th>\n",
       "      <th>pareto-optimal</th>\n",
       "    </tr>\n",
       "  </thead>\n",
       "  <tbody>\n",
       "    <tr>\n",
       "      <th>0</th>\n",
       "      <td>1.266664</td>\n",
       "      <td>339.003892</td>\n",
       "      <td>4289.432040</td>\n",
       "      <td>True</td>\n",
       "    </tr>\n",
       "    <tr>\n",
       "      <th>1</th>\n",
       "      <td>2.069977</td>\n",
       "      <td>337.811340</td>\n",
       "      <td>4289.395326</td>\n",
       "      <td>True</td>\n",
       "    </tr>\n",
       "    <tr>\n",
       "      <th>2</th>\n",
       "      <td>3.198112</td>\n",
       "      <td>336.102321</td>\n",
       "      <td>4289.345705</td>\n",
       "      <td>True</td>\n",
       "    </tr>\n",
       "    <tr>\n",
       "      <th>3</th>\n",
       "      <td>3.274626</td>\n",
       "      <td>335.984610</td>\n",
       "      <td>4289.342437</td>\n",
       "      <td>True</td>\n",
       "    </tr>\n",
       "    <tr>\n",
       "      <th>4</th>\n",
       "      <td>3.331504</td>\n",
       "      <td>335.897820</td>\n",
       "      <td>4289.339985</td>\n",
       "      <td>True</td>\n",
       "    </tr>\n",
       "    <tr>\n",
       "      <th>...</th>\n",
       "      <td>...</td>\n",
       "      <td>...</td>\n",
       "      <td>...</td>\n",
       "      <td>...</td>\n",
       "    </tr>\n",
       "    <tr>\n",
       "      <th>95</th>\n",
       "      <td>84.491644</td>\n",
       "      <td>201.785308</td>\n",
       "      <td>4292.593978</td>\n",
       "      <td>False</td>\n",
       "    </tr>\n",
       "    <tr>\n",
       "      <th>96</th>\n",
       "      <td>86.171944</td>\n",
       "      <td>200.518173</td>\n",
       "      <td>4292.871457</td>\n",
       "      <td>False</td>\n",
       "    </tr>\n",
       "    <tr>\n",
       "      <th>97</th>\n",
       "      <td>87.814533</td>\n",
       "      <td>199.451112</td>\n",
       "      <td>4293.115753</td>\n",
       "      <td>False</td>\n",
       "    </tr>\n",
       "    <tr>\n",
       "      <th>98</th>\n",
       "      <td>88.167880</td>\n",
       "      <td>199.234208</td>\n",
       "      <td>4293.173198</td>\n",
       "      <td>False</td>\n",
       "    </tr>\n",
       "    <tr>\n",
       "      <th>99</th>\n",
       "      <td>89.891241</td>\n",
       "      <td>198.307848</td>\n",
       "      <td>4293.396277</td>\n",
       "      <td>False</td>\n",
       "    </tr>\n",
       "  </tbody>\n",
       "</table>\n",
       "<p>100 rows × 4 columns</p>\n",
       "</div>"
      ],
      "text/plain": [
       "    Brise Angle  ElectricityProduced:Facility  Electricity:Facility  \\\n",
       "0      1.266664                    339.003892           4289.432040   \n",
       "1      2.069977                    337.811340           4289.395326   \n",
       "2      3.198112                    336.102321           4289.345705   \n",
       "3      3.274626                    335.984610           4289.342437   \n",
       "4      3.331504                    335.897820           4289.339985   \n",
       "..          ...                           ...                   ...   \n",
       "95    84.491644                    201.785308           4292.593978   \n",
       "96    86.171944                    200.518173           4292.871457   \n",
       "97    87.814533                    199.451112           4293.115753   \n",
       "98    88.167880                    199.234208           4293.173198   \n",
       "99    89.891241                    198.307848           4293.396277   \n",
       "\n",
       "    pareto-optimal  \n",
       "0             True  \n",
       "1             True  \n",
       "2             True  \n",
       "3             True  \n",
       "4             True  \n",
       "..             ...  \n",
       "95           False  \n",
       "96           False  \n",
       "97           False  \n",
       "98           False  \n",
       "99           False  \n",
       "\n",
       "[100 rows x 4 columns]"
      ]
     },
     "execution_count": 17,
     "metadata": {},
     "output_type": "execute_result"
    }
   ],
   "source": [
    "#results['Desconf. 80%'] = (results['Desconf. 80%']*(-1))/100\n",
    "#results['Power_inv'] = (results['Power_inv']/1000)\n",
    "results['ElectricityProduced:Facility'] = (results['ElectricityProduced:Facility']/3600000)\n",
    "results['Electricity:Facility'] = (results['Electricity:Facility']/3600000)\n",
    "\n",
    "results"
   ]
  },
  {
   "cell_type": "code",
   "execution_count": 18,
   "id": "66a8088b",
   "metadata": {},
   "outputs": [
    {
     "data": {
      "text/plain": [
       "Text(0, 0.5, 'Consumo de energia elétrica (kWh.ano)')"
      ]
     },
     "execution_count": 18,
     "metadata": {},
     "output_type": "execute_result"
    },
    {
     "data": {
      "image/png": "[encoded data removed]",
      "text/plain": [
       "<Figure size 640x480 with 1 Axes>"
      ]
     },
     "metadata": {},
     "output_type": "display_data"
    }
   ],
   "source": [
    "optres = results.loc[results['pareto-optimal']==True,:] # pareto-ótimo\n",
    "plt.plot(results['ElectricityProduced:Facility'], results['Electricity:Facility'],'x') \n",
    "plt.plot(optres['ElectricityProduced:Facility'], optres['Electricity:Facility'],'ro')\n",
    "plt.xlabel('Produção de energia elétrica (kWh.ano)')\n",
    "plt.ylabel('Consumo de energia elétrica (kWh.ano)')\n",
    "\n",
    "#plt.axis([1010,750,34590,34604]) #Seta a dimensão do grafico"
   ]
  },
  {
   "cell_type": "code",
   "execution_count": 19,
   "id": "0336d3a0",
   "metadata": {
    "editable": true,
    "slideshow": {
     "slide_type": ""
    },
    "tags": []
   },
   "outputs": [
    {
     "data": {
      "text/html": [
       "<div>\n",
       "<style scoped>\n",
       "    .dataframe tbody tr th:only-of-type {\n",
       "        vertical-align: middle;\n",
       "    }\n",
       "\n",
       "    .dataframe tbody tr th {\n",
       "        vertical-align: top;\n",
       "    }\n",
       "\n",
       "    .dataframe thead th {\n",
       "        text-align: right;\n",
       "    }\n",
       "</style>\n",
       "<table border=\"1\" class=\"dataframe\">\n",
       "  <thead>\n",
       "    <tr style=\"text-align: right;\">\n",
       "      <th></th>\n",
       "      <th>Brise Angle</th>\n",
       "      <th>ElectricityProduced:Facility</th>\n",
       "      <th>Electricity:Facility</th>\n",
       "      <th>pareto-optimal</th>\n",
       "    </tr>\n",
       "  </thead>\n",
       "  <tbody>\n",
       "    <tr>\n",
       "      <th>0</th>\n",
       "      <td>1.266664</td>\n",
       "      <td>339.003892</td>\n",
       "      <td>4289.432040</td>\n",
       "      <td>True</td>\n",
       "    </tr>\n",
       "    <tr>\n",
       "      <th>1</th>\n",
       "      <td>2.069977</td>\n",
       "      <td>337.811340</td>\n",
       "      <td>4289.395326</td>\n",
       "      <td>True</td>\n",
       "    </tr>\n",
       "    <tr>\n",
       "      <th>2</th>\n",
       "      <td>3.198112</td>\n",
       "      <td>336.102321</td>\n",
       "      <td>4289.345705</td>\n",
       "      <td>True</td>\n",
       "    </tr>\n",
       "    <tr>\n",
       "      <th>3</th>\n",
       "      <td>3.274626</td>\n",
       "      <td>335.984610</td>\n",
       "      <td>4289.342437</td>\n",
       "      <td>True</td>\n",
       "    </tr>\n",
       "    <tr>\n",
       "      <th>4</th>\n",
       "      <td>3.331504</td>\n",
       "      <td>335.897820</td>\n",
       "      <td>4289.339985</td>\n",
       "      <td>True</td>\n",
       "    </tr>\n",
       "    <tr>\n",
       "      <th>5</th>\n",
       "      <td>4.477173</td>\n",
       "      <td>334.123365</td>\n",
       "      <td>4289.292195</td>\n",
       "      <td>True</td>\n",
       "    </tr>\n",
       "    <tr>\n",
       "      <th>6</th>\n",
       "      <td>4.999366</td>\n",
       "      <td>333.302471</td>\n",
       "      <td>4289.271178</td>\n",
       "      <td>True</td>\n",
       "    </tr>\n",
       "    <tr>\n",
       "      <th>7</th>\n",
       "      <td>7.309243</td>\n",
       "      <td>329.605270</td>\n",
       "      <td>4289.183315</td>\n",
       "      <td>True</td>\n",
       "    </tr>\n",
       "    <tr>\n",
       "      <th>8</th>\n",
       "      <td>7.770855</td>\n",
       "      <td>328.843045</td>\n",
       "      <td>4289.166924</td>\n",
       "      <td>True</td>\n",
       "    </tr>\n",
       "    <tr>\n",
       "      <th>9</th>\n",
       "      <td>7.788897</td>\n",
       "      <td>328.813407</td>\n",
       "      <td>4289.166277</td>\n",
       "      <td>True</td>\n",
       "    </tr>\n",
       "    <tr>\n",
       "      <th>10</th>\n",
       "      <td>8.844166</td>\n",
       "      <td>327.067783</td>\n",
       "      <td>4289.124453</td>\n",
       "      <td>True</td>\n",
       "    </tr>\n",
       "    <tr>\n",
       "      <th>11</th>\n",
       "      <td>8.893178</td>\n",
       "      <td>326.985116</td>\n",
       "      <td>4289.122802</td>\n",
       "      <td>True</td>\n",
       "    </tr>\n",
       "    <tr>\n",
       "      <th>12</th>\n",
       "      <td>8.971644</td>\n",
       "      <td>326.854680</td>\n",
       "      <td>4289.120230</td>\n",
       "      <td>True</td>\n",
       "    </tr>\n",
       "    <tr>\n",
       "      <th>13</th>\n",
       "      <td>10.030709</td>\n",
       "      <td>325.076345</td>\n",
       "      <td>4289.086137</td>\n",
       "      <td>True</td>\n",
       "    </tr>\n",
       "    <tr>\n",
       "      <th>14</th>\n",
       "      <td>13.027873</td>\n",
       "      <td>319.961269</td>\n",
       "      <td>4288.962475</td>\n",
       "      <td>True</td>\n",
       "    </tr>\n",
       "    <tr>\n",
       "      <th>15</th>\n",
       "      <td>13.458373</td>\n",
       "      <td>319.214866</td>\n",
       "      <td>4288.951640</td>\n",
       "      <td>True</td>\n",
       "    </tr>\n",
       "    <tr>\n",
       "      <th>16</th>\n",
       "      <td>13.795453</td>\n",
       "      <td>318.625495</td>\n",
       "      <td>4288.943391</td>\n",
       "      <td>True</td>\n",
       "    </tr>\n",
       "    <tr>\n",
       "      <th>17</th>\n",
       "      <td>14.408898</td>\n",
       "      <td>317.548253</td>\n",
       "      <td>4288.929035</td>\n",
       "      <td>True</td>\n",
       "    </tr>\n",
       "    <tr>\n",
       "      <th>18</th>\n",
       "      <td>15.439259</td>\n",
       "      <td>315.718643</td>\n",
       "      <td>4288.908138</td>\n",
       "      <td>True</td>\n",
       "    </tr>\n",
       "    <tr>\n",
       "      <th>19</th>\n",
       "      <td>17.192417</td>\n",
       "      <td>312.569845</td>\n",
       "      <td>4288.881637</td>\n",
       "      <td>True</td>\n",
       "    </tr>\n",
       "    <tr>\n",
       "      <th>20</th>\n",
       "      <td>17.875879</td>\n",
       "      <td>311.335697</td>\n",
       "      <td>4288.872972</td>\n",
       "      <td>True</td>\n",
       "    </tr>\n",
       "    <tr>\n",
       "      <th>21</th>\n",
       "      <td>18.396692</td>\n",
       "      <td>310.389014</td>\n",
       "      <td>4288.866846</td>\n",
       "      <td>True</td>\n",
       "    </tr>\n",
       "    <tr>\n",
       "      <th>22</th>\n",
       "      <td>20.566563</td>\n",
       "      <td>306.377840</td>\n",
       "      <td>4288.832786</td>\n",
       "      <td>True</td>\n",
       "    </tr>\n",
       "    <tr>\n",
       "      <th>23</th>\n",
       "      <td>21.080843</td>\n",
       "      <td>305.429343</td>\n",
       "      <td>4288.818767</td>\n",
       "      <td>True</td>\n",
       "    </tr>\n",
       "    <tr>\n",
       "      <th>24</th>\n",
       "      <td>21.694518</td>\n",
       "      <td>304.291316</td>\n",
       "      <td>4288.802804</td>\n",
       "      <td>True</td>\n",
       "    </tr>\n",
       "    <tr>\n",
       "      <th>25</th>\n",
       "      <td>22.483713</td>\n",
       "      <td>302.820526</td>\n",
       "      <td>4288.783560</td>\n",
       "      <td>True</td>\n",
       "    </tr>\n",
       "    <tr>\n",
       "      <th>26</th>\n",
       "      <td>23.228634</td>\n",
       "      <td>301.419158</td>\n",
       "      <td>4288.766690</td>\n",
       "      <td>True</td>\n",
       "    </tr>\n",
       "    <tr>\n",
       "      <th>27</th>\n",
       "      <td>24.707385</td>\n",
       "      <td>298.612851</td>\n",
       "      <td>4288.736888</td>\n",
       "      <td>True</td>\n",
       "    </tr>\n",
       "    <tr>\n",
       "      <th>28</th>\n",
       "      <td>25.308169</td>\n",
       "      <td>297.464589</td>\n",
       "      <td>4288.726265</td>\n",
       "      <td>True</td>\n",
       "    </tr>\n",
       "    <tr>\n",
       "      <th>29</th>\n",
       "      <td>25.519077</td>\n",
       "      <td>297.062738</td>\n",
       "      <td>4288.722757</td>\n",
       "      <td>True</td>\n",
       "    </tr>\n",
       "    <tr>\n",
       "      <th>30</th>\n",
       "      <td>25.976227</td>\n",
       "      <td>296.190816</td>\n",
       "      <td>4288.715485</td>\n",
       "      <td>True</td>\n",
       "    </tr>\n",
       "    <tr>\n",
       "      <th>31</th>\n",
       "      <td>28.213172</td>\n",
       "      <td>291.914402</td>\n",
       "      <td>4288.676393</td>\n",
       "      <td>True</td>\n",
       "    </tr>\n",
       "    <tr>\n",
       "      <th>32</th>\n",
       "      <td>28.932607</td>\n",
       "      <td>290.533645</td>\n",
       "      <td>4288.199795</td>\n",
       "      <td>True</td>\n",
       "    </tr>\n",
       "    <tr>\n",
       "      <th>33</th>\n",
       "      <td>30.594765</td>\n",
       "      <td>287.327214</td>\n",
       "      <td>4288.191862</td>\n",
       "      <td>True</td>\n",
       "    </tr>\n",
       "  </tbody>\n",
       "</table>\n",
       "</div>"
      ],
      "text/plain": [
       "    Brise Angle  ElectricityProduced:Facility  Electricity:Facility  \\\n",
       "0      1.266664                    339.003892           4289.432040   \n",
       "1      2.069977                    337.811340           4289.395326   \n",
       "2      3.198112                    336.102321           4289.345705   \n",
       "3      3.274626                    335.984610           4289.342437   \n",
       "4      3.331504                    335.897820           4289.339985   \n",
       "5      4.477173                    334.123365           4289.292195   \n",
       "6      4.999366                    333.302471           4289.271178   \n",
       "7      7.309243                    329.605270           4289.183315   \n",
       "8      7.770855                    328.843045           4289.166924   \n",
       "9      7.788897                    328.813407           4289.166277   \n",
       "10     8.844166                    327.067783           4289.124453   \n",
       "11     8.893178                    326.985116           4289.122802   \n",
       "12     8.971644                    326.854680           4289.120230   \n",
       "13    10.030709                    325.076345           4289.086137   \n",
       "14    13.027873                    319.961269           4288.962475   \n",
       "15    13.458373                    319.214866           4288.951640   \n",
       "16    13.795453                    318.625495           4288.943391   \n",
       "17    14.408898                    317.548253           4288.929035   \n",
       "18    15.439259                    315.718643           4288.908138   \n",
       "19    17.192417                    312.569845           4288.881637   \n",
       "20    17.875879                    311.335697           4288.872972   \n",
       "21    18.396692                    310.389014           4288.866846   \n",
       "22    20.566563                    306.377840           4288.832786   \n",
       "23    21.080843                    305.429343           4288.818767   \n",
       "24    21.694518                    304.291316           4288.802804   \n",
       "25    22.483713                    302.820526           4288.783560   \n",
       "26    23.228634                    301.419158           4288.766690   \n",
       "27    24.707385                    298.612851           4288.736888   \n",
       "28    25.308169                    297.464589           4288.726265   \n",
       "29    25.519077                    297.062738           4288.722757   \n",
       "30    25.976227                    296.190816           4288.715485   \n",
       "31    28.213172                    291.914402           4288.676393   \n",
       "32    28.932607                    290.533645           4288.199795   \n",
       "33    30.594765                    287.327214           4288.191862   \n",
       "\n",
       "    pareto-optimal  \n",
       "0             True  \n",
       "1             True  \n",
       "2             True  \n",
       "3             True  \n",
       "4             True  \n",
       "5             True  \n",
       "6             True  \n",
       "7             True  \n",
       "8             True  \n",
       "9             True  \n",
       "10            True  \n",
       "11            True  \n",
       "12            True  \n",
       "13            True  \n",
       "14            True  \n",
       "15            True  \n",
       "16            True  \n",
       "17            True  \n",
       "18            True  \n",
       "19            True  \n",
       "20            True  \n",
       "21            True  \n",
       "22            True  \n",
       "23            True  \n",
       "24            True  \n",
       "25            True  \n",
       "26            True  \n",
       "27            True  \n",
       "28            True  \n",
       "29            True  \n",
       "30            True  \n",
       "31            True  \n",
       "32            True  \n",
       "33            True  "
      ]
     },
     "execution_count": 19,
     "metadata": {},
     "output_type": "execute_result"
    }
   ],
   "source": [
    "optres"
   ]
  },
  {
   "cell_type": "code",
   "execution_count": 20,
   "id": "0b42678d",
   "metadata": {},
   "outputs": [
    {
     "data": {
      "text/html": [
       "        <script type=\"text/javascript\">\n",
       "        window.PlotlyConfig = {MathJaxConfig: 'local'};\n",
       "        if (window.MathJax && window.MathJax.Hub && window.MathJax.Hub.Config) {window.MathJax.Hub.Config({SVG: {font: \"STIX-Web\"}});}\n",
       "        if (typeof require !== 'undefined') {\n",
       "        require.undef(\"plotly\");\n",
       "        requirejs.config({\n",
       "            paths: {\n",
       "                'plotly': ['https://cdn.plot.ly/plotly-2.35.2.min']\n",
       "            }\n",
       "        });\n",
       "        require(['plotly'], function(Plotly) {\n",
       "            window._Plotly = Plotly;\n",
       "        });\n",
       "        }\n",
       "        </script>\n",
       "        "
      ]
     },
     "metadata": {},
     "output_type": "display_data"
    },
    {
     "data": {
      "application/vnd.plotly.v1+json": {
       "config": {
        "plotlyServerURL": "https://plot.ly"
       },
       "data": [
        {
         "dimensions": [
          {
           "label": "Brise Angle",
           "values": [
            1.2666638677095354,
            2.0699766490318727,
            3.198111773910395,
            3.2746255773476296,
            3.3315035917519387,
            4.477173333249147,
            4.99936582747331,
            7.309243115899583,
            7.77085509853971,
            7.788896743088927,
            8.844166104851439,
            8.893178003613036,
            8.971644066560922,
            10.030708771542308,
            13.027872841055423,
            13.458373411752785,
            13.79545271985383,
            14.408898423657755,
            15.439258806303734,
            17.19241675064567,
            17.875878920379833,
            18.396692282303466,
            20.566563109101047,
            21.080843398275487,
            21.69451794444558,
            22.483712722128214,
            23.228634224330087,
            24.70738474729736,
            25.308169005261345,
            25.519077108295054,
            25.97622652445969,
            28.213172161662705,
            28.9326072972138,
            30.594764603068548,
            31.186634769146366,
            33.41743654379445,
            37.650956526714744,
            37.80599849817798,
            38.94580008566322,
            39.0778478102737,
            39.39345610291204,
            40.786271328715515,
            40.85894312397673,
            44.86699331600925,
            46.21810040600755,
            46.61106269784672,
            46.82583111000929,
            48.16022531402917,
            48.36549858691986,
            48.50428822379008,
            49.539373546511925,
            50.08542905003792,
            50.3094180340029,
            51.034965920006364,
            51.642283566970825,
            51.659193891865236,
            52.85236217165718,
            53.05044565260252,
            53.06619346843075,
            53.88485461348583,
            55.44078672500742,
            56.88610637943842,
            57.336071908799404,
            58.56831772935525,
            58.577051500720465,
            58.70481562393934,
            58.726912445321396,
            59.27306340500893,
            59.81935742661893,
            59.95792490941939,
            61.74450108453329,
            62.484176416518544,
            63.03819239124464,
            64.80420269058172,
            65.11025113867908,
            65.17934065995244,
            65.28433708707844,
            66.56021827411602,
            66.79522353891332,
            67.26996407993617,
            68.10115018777857,
            68.48202206148008,
            69.38535479179657,
            69.62094453576543,
            69.65687060552207,
            70.22619791770197,
            70.85611393709118,
            71.59417967400547,
            74.9451066549851,
            77.1727706235422,
            78.77370279811342,
            78.95103897176482,
            80.21318517185371,
            84.09617400586556,
            84.14176412265577,
            84.49164377771206,
            86.17194371128389,
            87.81453283241112,
            88.16788042767749,
            89.89124144744898
           ]
          },
          {
           "label": "Electricity:Facility",
           "values": [
            4289.4320402161875,
            4289.395325515774,
            4289.34570460356,
            4289.342437012745,
            4289.339984540884,
            4289.292194853196,
            4289.2711782643155,
            4289.183314899919,
            4289.166924362248,
            4289.166277247085,
            4289.124452834768,
            4289.122802308899,
            4289.120229708374,
            4289.086137063112,
            4288.962475474049,
            4288.951640304097,
            4288.9433906532495,
            4288.929035281157,
            4288.908138387173,
            4288.881637425316,
            4288.87297178224,
            4288.866845829075,
            4288.83278581749,
            4288.818767045068,
            4288.802803517833,
            4288.7835597287185,
            4288.766689638301,
            4288.736888425386,
            4288.72626516976,
            4288.722756609748,
            4288.715485358004,
            4288.676393488688,
            4288.199795091035,
            4288.191861569567,
            4288.192271293621,
            4288.202689212687,
            4288.261761528161,
            4288.26482612623,
            4288.289856590477,
            4288.29293781953,
            4288.300531141251,
            4288.337252324568,
            4288.339300064011,
            4288.453351198216,
            4288.491917249009,
            4288.5041391609,
            4288.511104215587,
            4288.5584316804925,
            4288.566262553118,
            4288.571711294992,
            4288.614362717327,
            4288.6384240843145,
            4288.648664345496,
            4288.683784999658,
            4288.714672958093,
            4288.715553971065,
            4288.780109063364,
            4288.79142893995,
            4288.792335530808,
            4288.840216260852,
            4288.9377279337305,
            4289.037484163565,
            4289.070341599347,
            4289.164298085552,
            4289.164995996035,
            4289.175078795073,
            4289.17682948274,
            4289.220794256858,
            4289.266084562507,
            4289.28904654641,
            4289.454859524336,
            4289.52066036595,
            4289.567742589709,
            4289.72914173174,
            4289.759272115091,
            4289.766002085307,
            4289.775270188618,
            4289.905208606319,
            4289.9300623971085,
            4289.979662420339,
            4290.072864018449,
            4290.116637813328,
            4290.22512629828,
            4290.254323047064,
            4290.258793101746,
            4290.332864027353,
            4290.414733368016,
            4290.5122136797945,
            4290.978899444663,
            4291.309761705218,
            4291.57217129429,
            4291.603183036814,
            4291.821862424456,
            4292.529962071045,
            4292.53723090747,
            4292.593978328042,
            4292.8714568926025,
            4293.115753226787,
            4293.173197518397,
            4293.396277432346
           ]
          }
         ],
         "domain": {
          "x": [
           0,
           1
          ],
          "y": [
           0,
           1
          ]
         },
         "line": {
          "color": [
           339.00389203495655,
           337.81134011305596,
           336.10232132324006,
           335.98461017698895,
           335.89781954216903,
           334.123365094037,
           333.3024707413012,
           329.60527022036075,
           328.8430450869217,
           328.81340719949264,
           327.0677834815105,
           326.98511636069014,
           326.85468016771136,
           325.0763448843187,
           319.961269042787,
           319.21486551424044,
           318.6254945899437,
           317.54825273953895,
           315.7186432876902,
           312.56984462320975,
           311.3356965747001,
           310.3890141065091,
           306.37783971870294,
           305.4293433415317,
           304.2913157486524,
           302.8205258136119,
           301.4191580384447,
           298.61285100755686,
           297.46458930968726,
           297.0627379937593,
           296.1908160939202,
           291.9144019969656,
           290.53364451205624,
           287.32721363740353,
           286.1778556550755,
           281.8502245428458,
           273.627500728888,
           273.3284436988721,
           271.13520636968565,
           270.8813771726538,
           270.2729870675407,
           267.5815246731552,
           267.43708817465017,
           259.7929777875008,
           257.2386641982923,
           256.50598734052187,
           256.1046083523107,
           253.62458030767905,
           253.2446284886751,
           252.98737139079628,
           251.06733100775344,
           250.06366363725093,
           249.65815275288762,
           248.33954535206314,
           247.2446591829589,
           247.21420735176264,
           245.0625190966496,
           244.70617179958717,
           244.678411774264,
           243.23044408678786,
           240.49874134609564,
           238.01257541802866,
           237.24353449837102,
           235.16117068427442,
           235.14670947727095,
           234.93314678926762,
           234.89667058657375,
           233.99429629369794,
           233.09130046242748,
           232.85808607063007,
           229.98567012415376,
           228.8132429485717,
           227.9625807282473,
           225.263479666688,
           224.79140092476646,
           224.6896165380988,
           224.53496138555738,
           222.66355390793868,
           222.32262246766945,
           221.6344130723601,
           220.44215437901497,
           219.91418839345448,
           218.66102182062923,
           218.33996426856947,
           218.2910011832893,
           217.51021395259016,
           216.6569230774935,
           215.68621481218642,
           211.4703791220909,
           208.87937523749272,
           207.13920298437338,
           206.94141679211523,
           205.6610468493892,
           202.102669931745,
           202.06568458183082,
           201.78530776214612,
           200.5181729104938,
           199.45111218409872,
           199.2342083931542,
           198.3078479025194
          ],
          "coloraxis": "coloraxis"
         },
         "name": "",
         "type": "parcoords"
        }
       ],
       "layout": {
        "autosize": true,
        "coloraxis": {
         "colorbar": {
          "title": {
           "text": "ElectricityProduced:Facility"
          }
         },
         "colorscale": [
          [
           0,
           "rgb(0,0,131)"
          ],
          [
           0.2,
           "rgb(0,60,170)"
          ],
          [
           0.4,
           "rgb(5,255,255)"
          ],
          [
           0.6,
           "rgb(255,255,0)"
          ],
          [
           0.8,
           "rgb(250,0,0)"
          ],
          [
           1,
           "rgb(128,0,0)"
          ]
         ]
        },
        "legend": {
         "tracegroupgap": 0
        },
        "margin": {
         "t": 60
        },
        "template": {
         "data": {
          "bar": [
           {
            "error_x": {
             "color": "#2a3f5f"
            },
            "error_y": {
             "color": "#2a3f5f"
            },
            "marker": {
             "line": {
              "color": "#E5ECF6",
              "width": 0.5
             },
             "pattern": {
              "fillmode": "overlay",
              "size": 10,
              "solidity": 0.2
             }
            },
            "type": "bar"
           }
          ],
          "barpolar": [
           {
            "marker": {
             "line": {
              "color": "#E5ECF6",
              "width": 0.5
             },
             "pattern": {
              "fillmode": "overlay",
              "size": 10,
              "solidity": 0.2
             }
            },
            "type": "barpolar"
           }
          ],
          "carpet": [
           {
            "aaxis": {
             "endlinecolor": "#2a3f5f",
             "gridcolor": "white",
             "linecolor": "white",
             "minorgridcolor": "white",
             "startlinecolor": "#2a3f5f"
            },
            "baxis": {
             "endlinecolor": "#2a3f5f",
             "gridcolor": "white",
             "linecolor": "white",
             "minorgridcolor": "white",
             "startlinecolor": "#2a3f5f"
            },
            "type": "carpet"
           }
          ],
          "choropleth": [
           {
            "colorbar": {
             "outlinewidth": 0,
             "ticks": ""
            },
            "type": "choropleth"
           }
          ],
          "contour": [
           {
            "colorbar": {
             "outlinewidth": 0,
             "ticks": ""
            },
            "colorscale": [
             [
              0,
              "#0d0887"
             ],
             [
              0.1111111111111111,
              "#46039f"
             ],
             [
              0.2222222222222222,
              "#7201a8"
             ],
             [
              0.3333333333333333,
              "#9c179e"
             ],
             [
              0.4444444444444444,
              "#bd3786"
             ],
             [
              0.5555555555555556,
              "#d8576b"
             ],
             [
              0.6666666666666666,
              "#ed7953"
             ],
             [
              0.7777777777777778,
              "#fb9f3a"
             ],
             [
              0.8888888888888888,
              "#fdca26"
             ],
             [
              1,
              "#f0f921"
             ]
            ],
            "type": "contour"
           }
          ],
          "contourcarpet": [
           {
            "colorbar": {
             "outlinewidth": 0,
             "ticks": ""
            },
            "type": "contourcarpet"
           }
          ],
          "heatmap": [
           {
            "colorbar": {
             "outlinewidth": 0,
             "ticks": ""
            },
            "colorscale": [
             [
              0,
              "#0d0887"
             ],
             [
              0.1111111111111111,
              "#46039f"
             ],
             [
              0.2222222222222222,
              "#7201a8"
             ],
             [
              0.3333333333333333,
              "#9c179e"
             ],
             [
              0.4444444444444444,
              "#bd3786"
             ],
             [
              0.5555555555555556,
              "#d8576b"
             ],
             [
              0.6666666666666666,
              "#ed7953"
             ],
             [
              0.7777777777777778,
              "#fb9f3a"
             ],
             [
              0.8888888888888888,
              "#fdca26"
             ],
             [
              1,
              "#f0f921"
             ]
            ],
            "type": "heatmap"
           }
          ],
          "heatmapgl": [
           {
            "colorbar": {
             "outlinewidth": 0,
             "ticks": ""
            },
            "colorscale": [
             [
              0,
              "#0d0887"
             ],
             [
              0.1111111111111111,
              "#46039f"
             ],
             [
              0.2222222222222222,
              "#7201a8"
             ],
             [
              0.3333333333333333,
              "#9c179e"
             ],
             [
              0.4444444444444444,
              "#bd3786"
             ],
             [
              0.5555555555555556,
              "#d8576b"
             ],
             [
              0.6666666666666666,
              "#ed7953"
             ],
             [
              0.7777777777777778,
              "#fb9f3a"
             ],
             [
              0.8888888888888888,
              "#fdca26"
             ],
             [
              1,
              "#f0f921"
             ]
            ],
            "type": "heatmapgl"
           }
          ],
          "histogram": [
           {
            "marker": {
             "pattern": {
              "fillmode": "overlay",
              "size": 10,
              "solidity": 0.2
             }
            },
            "type": "histogram"
           }
          ],
          "histogram2d": [
           {
            "colorbar": {
             "outlinewidth": 0,
             "ticks": ""
            },
            "colorscale": [
             [
              0,
              "#0d0887"
             ],
             [
              0.1111111111111111,
              "#46039f"
             ],
             [
              0.2222222222222222,
              "#7201a8"
             ],
             [
              0.3333333333333333,
              "#9c179e"
             ],
             [
              0.4444444444444444,
              "#bd3786"
             ],
             [
              0.5555555555555556,
              "#d8576b"
             ],
             [
              0.6666666666666666,
              "#ed7953"
             ],
             [
              0.7777777777777778,
              "#fb9f3a"
             ],
             [
              0.8888888888888888,
              "#fdca26"
             ],
             [
              1,
              "#f0f921"
             ]
            ],
            "type": "histogram2d"
           }
          ],
          "histogram2dcontour": [
           {
            "colorbar": {
             "outlinewidth": 0,
             "ticks": ""
            },
            "colorscale": [
             [
              0,
              "#0d0887"
             ],
             [
              0.1111111111111111,
              "#46039f"
             ],
             [
              0.2222222222222222,
              "#7201a8"
             ],
             [
              0.3333333333333333,
              "#9c179e"
             ],
             [
              0.4444444444444444,
              "#bd3786"
             ],
             [
              0.5555555555555556,
              "#d8576b"
             ],
             [
              0.6666666666666666,
              "#ed7953"
             ],
             [
              0.7777777777777778,
              "#fb9f3a"
             ],
             [
              0.8888888888888888,
              "#fdca26"
             ],
             [
              1,
              "#f0f921"
             ]
            ],
            "type": "histogram2dcontour"
           }
          ],
          "mesh3d": [
           {
            "colorbar": {
             "outlinewidth": 0,
             "ticks": ""
            },
            "type": "mesh3d"
           }
          ],
          "parcoords": [
           {
            "line": {
             "colorbar": {
              "outlinewidth": 0,
              "ticks": ""
             }
            },
            "type": "parcoords"
           }
          ],
          "pie": [
           {
            "automargin": true,
            "type": "pie"
           }
          ],
          "scatter": [
           {
            "fillpattern": {
             "fillmode": "overlay",
             "size": 10,
             "solidity": 0.2
            },
            "type": "scatter"
           }
          ],
          "scatter3d": [
           {
            "line": {
             "colorbar": {
              "outlinewidth": 0,
              "ticks": ""
             }
            },
            "marker": {
             "colorbar": {
              "outlinewidth": 0,
              "ticks": ""
             }
            },
            "type": "scatter3d"
           }
          ],
          "scattercarpet": [
           {
            "marker": {
             "colorbar": {
              "outlinewidth": 0,
              "ticks": ""
             }
            },
            "type": "scattercarpet"
           }
          ],
          "scattergeo": [
           {
            "marker": {
             "colorbar": {
              "outlinewidth": 0,
              "ticks": ""
             }
            },
            "type": "scattergeo"
           }
          ],
          "scattergl": [
           {
            "marker": {
             "colorbar": {
              "outlinewidth": 0,
              "ticks": ""
             }
            },
            "type": "scattergl"
           }
          ],
          "scattermapbox": [
           {
            "marker": {
             "colorbar": {
              "outlinewidth": 0,
              "ticks": ""
             }
            },
            "type": "scattermapbox"
           }
          ],
          "scatterpolar": [
           {
            "marker": {
             "colorbar": {
              "outlinewidth": 0,
              "ticks": ""
             }
            },
            "type": "scatterpolar"
           }
          ],
          "scatterpolargl": [
           {
            "marker": {
             "colorbar": {
              "outlinewidth": 0,
              "ticks": ""
             }
            },
            "type": "scatterpolargl"
           }
          ],
          "scatterternary": [
           {
            "marker": {
             "colorbar": {
              "outlinewidth": 0,
              "ticks": ""
             }
            },
            "type": "scatterternary"
           }
          ],
          "surface": [
           {
            "colorbar": {
             "outlinewidth": 0,
             "ticks": ""
            },
            "colorscale": [
             [
              0,
              "#0d0887"
             ],
             [
              0.1111111111111111,
              "#46039f"
             ],
             [
              0.2222222222222222,
              "#7201a8"
             ],
             [
              0.3333333333333333,
              "#9c179e"
             ],
             [
              0.4444444444444444,
              "#bd3786"
             ],
             [
              0.5555555555555556,
              "#d8576b"
             ],
             [
              0.6666666666666666,
              "#ed7953"
             ],
             [
              0.7777777777777778,
              "#fb9f3a"
             ],
             [
              0.8888888888888888,
              "#fdca26"
             ],
             [
              1,
              "#f0f921"
             ]
            ],
            "type": "surface"
           }
          ],
          "table": [
           {
            "cells": {
             "fill": {
              "color": "#EBF0F8"
             },
             "line": {
              "color": "white"
             }
            },
            "header": {
             "fill": {
              "color": "#C8D4E3"
             },
             "line": {
              "color": "white"
             }
            },
            "type": "table"
           }
          ]
         },
         "layout": {
          "annotationdefaults": {
           "arrowcolor": "#2a3f5f",
           "arrowhead": 0,
           "arrowwidth": 1
          },
          "autotypenumbers": "strict",
          "coloraxis": {
           "colorbar": {
            "outlinewidth": 0,
            "ticks": ""
           }
          },
          "colorscale": {
           "diverging": [
            [
             0,
             "#8e0152"
            ],
            [
             0.1,
             "#c51b7d"
            ],
            [
             0.2,
             "#de77ae"
            ],
            [
             0.3,
             "#f1b6da"
            ],
            [
             0.4,
             "#fde0ef"
            ],
            [
             0.5,
             "#f7f7f7"
            ],
            [
             0.6,
             "#e6f5d0"
            ],
            [
             0.7,
             "#b8e186"
            ],
            [
             0.8,
             "#7fbc41"
            ],
            [
             0.9,
             "#4d9221"
            ],
            [
             1,
             "#276419"
            ]
           ],
           "sequential": [
            [
             0,
             "#0d0887"
            ],
            [
             0.1111111111111111,
             "#46039f"
            ],
            [
             0.2222222222222222,
             "#7201a8"
            ],
            [
             0.3333333333333333,
             "#9c179e"
            ],
            [
             0.4444444444444444,
             "#bd3786"
            ],
            [
             0.5555555555555556,
             "#d8576b"
            ],
            [
             0.6666666666666666,
             "#ed7953"
            ],
            [
             0.7777777777777778,
             "#fb9f3a"
            ],
            [
             0.8888888888888888,
             "#fdca26"
            ],
            [
             1,
             "#f0f921"
            ]
           ],
           "sequentialminus": [
            [
             0,
             "#0d0887"
            ],
            [
             0.1111111111111111,
             "#46039f"
            ],
            [
             0.2222222222222222,
             "#7201a8"
            ],
            [
             0.3333333333333333,
             "#9c179e"
            ],
            [
             0.4444444444444444,
             "#bd3786"
            ],
            [
             0.5555555555555556,
             "#d8576b"
            ],
            [
             0.6666666666666666,
             "#ed7953"
            ],
            [
             0.7777777777777778,
             "#fb9f3a"
            ],
            [
             0.8888888888888888,
             "#fdca26"
            ],
            [
             1,
             "#f0f921"
            ]
           ]
          },
          "colorway": [
           "#636efa",
           "#EF553B",
           "#00cc96",
           "#ab63fa",
           "#FFA15A",
           "#19d3f3",
           "#FF6692",
           "#B6E880",
           "#FF97FF",
           "#FECB52"
          ],
          "font": {
           "color": "#2a3f5f"
          },
          "geo": {
           "bgcolor": "white",
           "lakecolor": "white",
           "landcolor": "#E5ECF6",
           "showlakes": true,
           "showland": true,
           "subunitcolor": "white"
          },
          "hoverlabel": {
           "align": "left"
          },
          "hovermode": "closest",
          "mapbox": {
           "style": "light"
          },
          "paper_bgcolor": "white",
          "plot_bgcolor": "#E5ECF6",
          "polar": {
           "angularaxis": {
            "gridcolor": "white",
            "linecolor": "white",
            "ticks": ""
           },
           "bgcolor": "#E5ECF6",
           "radialaxis": {
            "gridcolor": "white",
            "linecolor": "white",
            "ticks": ""
           }
          },
          "scene": {
           "xaxis": {
            "backgroundcolor": "#E5ECF6",
            "gridcolor": "white",
            "gridwidth": 2,
            "linecolor": "white",
            "showbackground": true,
            "ticks": "",
            "zerolinecolor": "white"
           },
           "yaxis": {
            "backgroundcolor": "#E5ECF6",
            "gridcolor": "white",
            "gridwidth": 2,
            "linecolor": "white",
            "showbackground": true,
            "ticks": "",
            "zerolinecolor": "white"
           },
           "zaxis": {
            "backgroundcolor": "#E5ECF6",
            "gridcolor": "white",
            "gridwidth": 2,
            "linecolor": "white",
            "showbackground": true,
            "ticks": "",
            "zerolinecolor": "white"
           }
          },
          "shapedefaults": {
           "line": {
            "color": "#2a3f5f"
           }
          },
          "ternary": {
           "aaxis": {
            "gridcolor": "white",
            "linecolor": "white",
            "ticks": ""
           },
           "baxis": {
            "gridcolor": "white",
            "linecolor": "white",
            "ticks": ""
           },
           "bgcolor": "#E5ECF6",
           "caxis": {
            "gridcolor": "white",
            "linecolor": "white",
            "ticks": ""
           }
          },
          "title": {
           "x": 0.05
          },
          "xaxis": {
           "automargin": true,
           "gridcolor": "white",
           "linecolor": "white",
           "ticks": "",
           "title": {
            "standoff": 15
           },
           "zerolinecolor": "white",
           "zerolinewidth": 2
          },
          "yaxis": {
           "automargin": true,
           "gridcolor": "white",
           "linecolor": "white",
           "ticks": "",
           "title": {
            "standoff": 15
           },
           "zerolinecolor": "white",
           "zerolinewidth": 2
          }
         }
        }
       }
      },
      "image/png": "[encoded data removed]",
      "text/html": [
       "<div>                            <div id=\"79deafd0-ddab-4bcf-88d4-fef77992c892\" class=\"plotly-graph-div\" style=\"height:525px; width:100%;\"></div>            <script type=\"text/javascript\">                require([\"plotly\"], function(Plotly) {                    window.PLOTLYENV=window.PLOTLYENV || {};                                    if (document.getElementById(\"79deafd0-ddab-4bcf-88d4-fef77992c892\")) {                    Plotly.newPlot(                        \"79deafd0-ddab-4bcf-88d4-fef77992c892\",                        [{\"dimensions\":[{\"label\":\"Brise Angle\",\"values\":[1.2666638677095354,2.0699766490318727,3.198111773910395,3.2746255773476296,3.3315035917519387,4.477173333249147,4.99936582747331,7.309243115899583,7.77085509853971,7.788896743088927,8.844166104851439,8.893178003613036,8.971644066560922,10.030708771542308,13.027872841055423,13.458373411752785,13.79545271985383,14.408898423657755,15.439258806303734,17.19241675064567,17.875878920379833,18.396692282303466,20.566563109101047,21.080843398275487,21.69451794444558,22.483712722128214,23.228634224330087,24.70738474729736,25.308169005261345,25.519077108295054,25.97622652445969,28.213172161662705,28.9326072972138,30.594764603068548,31.186634769146366,33.41743654379445,37.650956526714744,37.80599849817798,38.94580008566322,39.0778478102737,39.39345610291204,40.786271328715515,40.85894312397673,44.86699331600925,46.21810040600755,46.61106269784672,46.82583111000929,48.16022531402917,48.36549858691986,48.50428822379008,49.539373546511925,50.08542905003792,50.3094180340029,51.034965920006364,51.642283566970825,51.659193891865236,52.85236217165718,53.05044565260252,53.06619346843075,53.88485461348583,55.44078672500742,56.88610637943842,57.336071908799404,58.56831772935525,58.577051500720465,58.70481562393934,58.726912445321396,59.27306340500893,59.81935742661893,59.95792490941939,61.74450108453329,62.484176416518544,63.03819239124464,64.80420269058172,65.11025113867908,65.17934065995244,65.28433708707844,66.56021827411602,66.79522353891332,67.26996407993617,68.10115018777857,68.48202206148008,69.38535479179657,69.62094453576543,69.65687060552207,70.22619791770197,70.85611393709118,71.59417967400547,74.9451066549851,77.1727706235422,78.77370279811342,78.95103897176482,80.21318517185371,84.09617400586556,84.14176412265577,84.49164377771206,86.17194371128389,87.81453283241112,88.16788042767749,89.89124144744898]},{\"label\":\"Electricity:Facility\",\"values\":[4289.4320402161875,4289.395325515774,4289.34570460356,4289.342437012745,4289.339984540884,4289.292194853196,4289.2711782643155,4289.183314899919,4289.166924362248,4289.166277247085,4289.124452834768,4289.122802308899,4289.120229708374,4289.086137063112,4288.962475474049,4288.951640304097,4288.9433906532495,4288.929035281157,4288.908138387173,4288.881637425316,4288.87297178224,4288.866845829075,4288.83278581749,4288.818767045068,4288.802803517833,4288.7835597287185,4288.766689638301,4288.736888425386,4288.72626516976,4288.722756609748,4288.715485358004,4288.676393488688,4288.199795091035,4288.191861569567,4288.192271293621,4288.202689212687,4288.261761528161,4288.26482612623,4288.289856590477,4288.29293781953,4288.300531141251,4288.337252324568,4288.339300064011,4288.453351198216,4288.491917249009,4288.5041391609,4288.511104215587,4288.5584316804925,4288.566262553118,4288.571711294992,4288.614362717327,4288.6384240843145,4288.648664345496,4288.683784999658,4288.714672958093,4288.715553971065,4288.780109063364,4288.79142893995,4288.792335530808,4288.840216260852,4288.9377279337305,4289.037484163565,4289.070341599347,4289.164298085552,4289.164995996035,4289.175078795073,4289.17682948274,4289.220794256858,4289.266084562507,4289.28904654641,4289.454859524336,4289.52066036595,4289.567742589709,4289.72914173174,4289.759272115091,4289.766002085307,4289.775270188618,4289.905208606319,4289.9300623971085,4289.979662420339,4290.072864018449,4290.116637813328,4290.22512629828,4290.254323047064,4290.258793101746,4290.332864027353,4290.414733368016,4290.5122136797945,4290.978899444663,4291.309761705218,4291.57217129429,4291.603183036814,4291.821862424456,4292.529962071045,4292.53723090747,4292.593978328042,4292.8714568926025,4293.115753226787,4293.173197518397,4293.396277432346]}],\"domain\":{\"x\":[0.0,1.0],\"y\":[0.0,1.0]},\"line\":{\"color\":[339.00389203495655,337.81134011305596,336.10232132324006,335.98461017698895,335.89781954216903,334.123365094037,333.3024707413012,329.60527022036075,328.8430450869217,328.81340719949264,327.0677834815105,326.98511636069014,326.85468016771136,325.0763448843187,319.961269042787,319.21486551424044,318.6254945899437,317.54825273953895,315.7186432876902,312.56984462320975,311.3356965747001,310.3890141065091,306.37783971870294,305.4293433415317,304.2913157486524,302.8205258136119,301.4191580384447,298.61285100755686,297.46458930968726,297.0627379937593,296.1908160939202,291.9144019969656,290.53364451205624,287.32721363740353,286.1778556550755,281.8502245428458,273.627500728888,273.3284436988721,271.13520636968565,270.8813771726538,270.2729870675407,267.5815246731552,267.43708817465017,259.7929777875008,257.2386641982923,256.50598734052187,256.1046083523107,253.62458030767905,253.2446284886751,252.98737139079628,251.06733100775344,250.06366363725093,249.65815275288762,248.33954535206314,247.2446591829589,247.21420735176264,245.0625190966496,244.70617179958717,244.678411774264,243.23044408678786,240.49874134609564,238.01257541802866,237.24353449837102,235.16117068427442,235.14670947727095,234.93314678926762,234.89667058657375,233.99429629369794,233.09130046242748,232.85808607063007,229.98567012415376,228.8132429485717,227.9625807282473,225.263479666688,224.79140092476646,224.6896165380988,224.53496138555738,222.66355390793868,222.32262246766945,221.6344130723601,220.44215437901497,219.91418839345448,218.66102182062923,218.33996426856947,218.2910011832893,217.51021395259016,216.6569230774935,215.68621481218642,211.4703791220909,208.87937523749272,207.13920298437338,206.94141679211523,205.6610468493892,202.102669931745,202.06568458183082,201.78530776214612,200.5181729104938,199.45111218409872,199.2342083931542,198.3078479025194],\"coloraxis\":\"coloraxis\"},\"name\":\"\",\"type\":\"parcoords\"}],                        {\"template\":{\"data\":{\"histogram2dcontour\":[{\"type\":\"histogram2dcontour\",\"colorbar\":{\"outlinewidth\":0,\"ticks\":\"\"},\"colorscale\":[[0.0,\"#0d0887\"],[0.1111111111111111,\"#46039f\"],[0.2222222222222222,\"#7201a8\"],[0.3333333333333333,\"#9c179e\"],[0.4444444444444444,\"#bd3786\"],[0.5555555555555556,\"#d8576b\"],[0.6666666666666666,\"#ed7953\"],[0.7777777777777778,\"#fb9f3a\"],[0.8888888888888888,\"#fdca26\"],[1.0,\"#f0f921\"]]}],\"choropleth\":[{\"type\":\"choropleth\",\"colorbar\":{\"outlinewidth\":0,\"ticks\":\"\"}}],\"histogram2d\":[{\"type\":\"histogram2d\",\"colorbar\":{\"outlinewidth\":0,\"ticks\":\"\"},\"colorscale\":[[0.0,\"#0d0887\"],[0.1111111111111111,\"#46039f\"],[0.2222222222222222,\"#7201a8\"],[0.3333333333333333,\"#9c179e\"],[0.4444444444444444,\"#bd3786\"],[0.5555555555555556,\"#d8576b\"],[0.6666666666666666,\"#ed7953\"],[0.7777777777777778,\"#fb9f3a\"],[0.8888888888888888,\"#fdca26\"],[1.0,\"#f0f921\"]]}],\"heatmap\":[{\"type\":\"heatmap\",\"colorbar\":{\"outlinewidth\":0,\"ticks\":\"\"},\"colorscale\":[[0.0,\"#0d0887\"],[0.1111111111111111,\"#46039f\"],[0.2222222222222222,\"#7201a8\"],[0.3333333333333333,\"#9c179e\"],[0.4444444444444444,\"#bd3786\"],[0.5555555555555556,\"#d8576b\"],[0.6666666666666666,\"#ed7953\"],[0.7777777777777778,\"#fb9f3a\"],[0.8888888888888888,\"#fdca26\"],[1.0,\"#f0f921\"]]}],\"heatmapgl\":[{\"type\":\"heatmapgl\",\"colorbar\":{\"outlinewidth\":0,\"ticks\":\"\"},\"colorscale\":[[0.0,\"#0d0887\"],[0.1111111111111111,\"#46039f\"],[0.2222222222222222,\"#7201a8\"],[0.3333333333333333,\"#9c179e\"],[0.4444444444444444,\"#bd3786\"],[0.5555555555555556,\"#d8576b\"],[0.6666666666666666,\"#ed7953\"],[0.7777777777777778,\"#fb9f3a\"],[0.8888888888888888,\"#fdca26\"],[1.0,\"#f0f921\"]]}],\"contourcarpet\":[{\"type\":\"contourcarpet\",\"colorbar\":{\"outlinewidth\":0,\"ticks\":\"\"}}],\"contour\":[{\"type\":\"contour\",\"colorbar\":{\"outlinewidth\":0,\"ticks\":\"\"},\"colorscale\":[[0.0,\"#0d0887\"],[0.1111111111111111,\"#46039f\"],[0.2222222222222222,\"#7201a8\"],[0.3333333333333333,\"#9c179e\"],[0.4444444444444444,\"#bd3786\"],[0.5555555555555556,\"#d8576b\"],[0.6666666666666666,\"#ed7953\"],[0.7777777777777778,\"#fb9f3a\"],[0.8888888888888888,\"#fdca26\"],[1.0,\"#f0f921\"]]}],\"surface\":[{\"type\":\"surface\",\"colorbar\":{\"outlinewidth\":0,\"ticks\":\"\"},\"colorscale\":[[0.0,\"#0d0887\"],[0.1111111111111111,\"#46039f\"],[0.2222222222222222,\"#7201a8\"],[0.3333333333333333,\"#9c179e\"],[0.4444444444444444,\"#bd3786\"],[0.5555555555555556,\"#d8576b\"],[0.6666666666666666,\"#ed7953\"],[0.7777777777777778,\"#fb9f3a\"],[0.8888888888888888,\"#fdca26\"],[1.0,\"#f0f921\"]]}],\"mesh3d\":[{\"type\":\"mesh3d\",\"colorbar\":{\"outlinewidth\":0,\"ticks\":\"\"}}],\"scatter\":[{\"fillpattern\":{\"fillmode\":\"overlay\",\"size\":10,\"solidity\":0.2},\"type\":\"scatter\"}],\"parcoords\":[{\"type\":\"parcoords\",\"line\":{\"colorbar\":{\"outlinewidth\":0,\"ticks\":\"\"}}}],\"scatterpolargl\":[{\"type\":\"scatterpolargl\",\"marker\":{\"colorbar\":{\"outlinewidth\":0,\"ticks\":\"\"}}}],\"bar\":[{\"error_x\":{\"color\":\"#2a3f5f\"},\"error_y\":{\"color\":\"#2a3f5f\"},\"marker\":{\"line\":{\"color\":\"#E5ECF6\",\"width\":0.5},\"pattern\":{\"fillmode\":\"overlay\",\"size\":10,\"solidity\":0.2}},\"type\":\"bar\"}],\"scattergeo\":[{\"type\":\"scattergeo\",\"marker\":{\"colorbar\":{\"outlinewidth\":0,\"ticks\":\"\"}}}],\"scatterpolar\":[{\"type\":\"scatterpolar\",\"marker\":{\"colorbar\":{\"outlinewidth\":0,\"ticks\":\"\"}}}],\"histogram\":[{\"marker\":{\"pattern\":{\"fillmode\":\"overlay\",\"size\":10,\"solidity\":0.2}},\"type\":\"histogram\"}],\"scattergl\":[{\"type\":\"scattergl\",\"marker\":{\"colorbar\":{\"outlinewidth\":0,\"ticks\":\"\"}}}],\"scatter3d\":[{\"type\":\"scatter3d\",\"line\":{\"colorbar\":{\"outlinewidth\":0,\"ticks\":\"\"}},\"marker\":{\"colorbar\":{\"outlinewidth\":0,\"ticks\":\"\"}}}],\"scattermapbox\":[{\"type\":\"scattermapbox\",\"marker\":{\"colorbar\":{\"outlinewidth\":0,\"ticks\":\"\"}}}],\"scatterternary\":[{\"type\":\"scatterternary\",\"marker\":{\"colorbar\":{\"outlinewidth\":0,\"ticks\":\"\"}}}],\"scattercarpet\":[{\"type\":\"scattercarpet\",\"marker\":{\"colorbar\":{\"outlinewidth\":0,\"ticks\":\"\"}}}],\"carpet\":[{\"aaxis\":{\"endlinecolor\":\"#2a3f5f\",\"gridcolor\":\"white\",\"linecolor\":\"white\",\"minorgridcolor\":\"white\",\"startlinecolor\":\"#2a3f5f\"},\"baxis\":{\"endlinecolor\":\"#2a3f5f\",\"gridcolor\":\"white\",\"linecolor\":\"white\",\"minorgridcolor\":\"white\",\"startlinecolor\":\"#2a3f5f\"},\"type\":\"carpet\"}],\"table\":[{\"cells\":{\"fill\":{\"color\":\"#EBF0F8\"},\"line\":{\"color\":\"white\"}},\"header\":{\"fill\":{\"color\":\"#C8D4E3\"},\"line\":{\"color\":\"white\"}},\"type\":\"table\"}],\"barpolar\":[{\"marker\":{\"line\":{\"color\":\"#E5ECF6\",\"width\":0.5},\"pattern\":{\"fillmode\":\"overlay\",\"size\":10,\"solidity\":0.2}},\"type\":\"barpolar\"}],\"pie\":[{\"automargin\":true,\"type\":\"pie\"}]},\"layout\":{\"autotypenumbers\":\"strict\",\"colorway\":[\"#636efa\",\"#EF553B\",\"#00cc96\",\"#ab63fa\",\"#FFA15A\",\"#19d3f3\",\"#FF6692\",\"#B6E880\",\"#FF97FF\",\"#FECB52\"],\"font\":{\"color\":\"#2a3f5f\"},\"hovermode\":\"closest\",\"hoverlabel\":{\"align\":\"left\"},\"paper_bgcolor\":\"white\",\"plot_bgcolor\":\"#E5ECF6\",\"polar\":{\"bgcolor\":\"#E5ECF6\",\"angularaxis\":{\"gridcolor\":\"white\",\"linecolor\":\"white\",\"ticks\":\"\"},\"radialaxis\":{\"gridcolor\":\"white\",\"linecolor\":\"white\",\"ticks\":\"\"}},\"ternary\":{\"bgcolor\":\"#E5ECF6\",\"aaxis\":{\"gridcolor\":\"white\",\"linecolor\":\"white\",\"ticks\":\"\"},\"baxis\":{\"gridcolor\":\"white\",\"linecolor\":\"white\",\"ticks\":\"\"},\"caxis\":{\"gridcolor\":\"white\",\"linecolor\":\"white\",\"ticks\":\"\"}},\"coloraxis\":{\"colorbar\":{\"outlinewidth\":0,\"ticks\":\"\"}},\"colorscale\":{\"sequential\":[[0.0,\"#0d0887\"],[0.1111111111111111,\"#46039f\"],[0.2222222222222222,\"#7201a8\"],[0.3333333333333333,\"#9c179e\"],[0.4444444444444444,\"#bd3786\"],[0.5555555555555556,\"#d8576b\"],[0.6666666666666666,\"#ed7953\"],[0.7777777777777778,\"#fb9f3a\"],[0.8888888888888888,\"#fdca26\"],[1.0,\"#f0f921\"]],\"sequentialminus\":[[0.0,\"#0d0887\"],[0.1111111111111111,\"#46039f\"],[0.2222222222222222,\"#7201a8\"],[0.3333333333333333,\"#9c179e\"],[0.4444444444444444,\"#bd3786\"],[0.5555555555555556,\"#d8576b\"],[0.6666666666666666,\"#ed7953\"],[0.7777777777777778,\"#fb9f3a\"],[0.8888888888888888,\"#fdca26\"],[1.0,\"#f0f921\"]],\"diverging\":[[0,\"#8e0152\"],[0.1,\"#c51b7d\"],[0.2,\"#de77ae\"],[0.3,\"#f1b6da\"],[0.4,\"#fde0ef\"],[0.5,\"#f7f7f7\"],[0.6,\"#e6f5d0\"],[0.7,\"#b8e186\"],[0.8,\"#7fbc41\"],[0.9,\"#4d9221\"],[1,\"#276419\"]]},\"xaxis\":{\"gridcolor\":\"white\",\"linecolor\":\"white\",\"ticks\":\"\",\"title\":{\"standoff\":15},\"zerolinecolor\":\"white\",\"automargin\":true,\"zerolinewidth\":2},\"yaxis\":{\"gridcolor\":\"white\",\"linecolor\":\"white\",\"ticks\":\"\",\"title\":{\"standoff\":15},\"zerolinecolor\":\"white\",\"automargin\":true,\"zerolinewidth\":2},\"scene\":{\"xaxis\":{\"backgroundcolor\":\"#E5ECF6\",\"gridcolor\":\"white\",\"linecolor\":\"white\",\"showbackground\":true,\"ticks\":\"\",\"zerolinecolor\":\"white\",\"gridwidth\":2},\"yaxis\":{\"backgroundcolor\":\"#E5ECF6\",\"gridcolor\":\"white\",\"linecolor\":\"white\",\"showbackground\":true,\"ticks\":\"\",\"zerolinecolor\":\"white\",\"gridwidth\":2},\"zaxis\":{\"backgroundcolor\":\"#E5ECF6\",\"gridcolor\":\"white\",\"linecolor\":\"white\",\"showbackground\":true,\"ticks\":\"\",\"zerolinecolor\":\"white\",\"gridwidth\":2}},\"shapedefaults\":{\"line\":{\"color\":\"#2a3f5f\"}},\"annotationdefaults\":{\"arrowcolor\":\"#2a3f5f\",\"arrowhead\":0,\"arrowwidth\":1},\"geo\":{\"bgcolor\":\"white\",\"landcolor\":\"#E5ECF6\",\"subunitcolor\":\"white\",\"showland\":true,\"showlakes\":true,\"lakecolor\":\"white\"},\"title\":{\"x\":0.05},\"mapbox\":{\"style\":\"light\"}}},\"coloraxis\":{\"colorbar\":{\"title\":{\"text\":\"ElectricityProduced:Facility\"}},\"colorscale\":[[0.0,\"rgb(0,0,131)\"],[0.2,\"rgb(0,60,170)\"],[0.4,\"rgb(5,255,255)\"],[0.6,\"rgb(255,255,0)\"],[0.8,\"rgb(250,0,0)\"],[1.0,\"rgb(128,0,0)\"]]},\"legend\":{\"tracegroupgap\":0},\"margin\":{\"t\":60}},                        {\"responsive\": true}                    ).then(function(){\n",
       "                            \n",
       "var gd = document.getElementById('79deafd0-ddab-4bcf-88d4-fef77992c892');\n",
       "var x = new MutationObserver(function (mutations, observer) {{\n",
       "        var display = window.getComputedStyle(gd).display;\n",
       "        if (!display || display === 'none') {{\n",
       "            console.log([gd, 'removed!']);\n",
       "            Plotly.purge(gd);\n",
       "            observer.disconnect();\n",
       "        }}\n",
       "}});\n",
       "\n",
       "// Listen for the removal of the full notebook cells\n",
       "var notebookContainer = gd.closest('#notebook-container');\n",
       "if (notebookContainer) {{\n",
       "    x.observe(notebookContainer, {childList: true});\n",
       "}}\n",
       "\n",
       "// Listen for the clearing of the current output cell\n",
       "var outputEl = gd.closest('.output');\n",
       "if (outputEl) {{\n",
       "    x.observe(outputEl, {childList: true});\n",
       "}}\n",
       "\n",
       "                        })                };                });            </script>        </div>"
      ]
     },
     "metadata": {},
     "output_type": "display_data"
    }
   ],
   "source": [
    "import plotly\n",
    "import numpy\n",
    "#results.iteritems = df.items\n",
    "#results.rename(columns={'RangeParameter [0.1, 0.9]': 'RangeParameter'}, inplace=True)\n",
    "\n",
    "plotly.offline.init_notebook_mode(connected=True)\n",
    "import plotly.express as px\n",
    "fig = px.parallel_coordinates(results,color=\"ElectricityProduced:Facility\", dimensions=[\n",
    "    \"Brise Angle\",\"Electricity:Facility\"],\n",
    "    color_continuous_scale=px.colors.sequential.Jet)\n",
    "fig.show()"
   ]
  },
  {
   "cell_type": "code",
   "execution_count": null,
   "id": "45d2f9ec-b153-40d9-aee0-9a72f41ffdab",
   "metadata": {},
   "outputs": [],
   "source": []
  }
 ],
 "metadata": {
  "kernelspec": {
   "display_name": "Python 3 (ipykernel)",
   "language": "python",
   "name": "python3"
  },
  "language_info": {
   "codemirror_mode": {
    "name": "ipython",
    "version": 3
   },
   "file_extension": ".py",
   "mimetype": "text/x-python",
   "name": "python",
   "nbconvert_exporter": "python",
   "pygments_lexer": "ipython3",
   "version": "3.10.0"
  }
 },
 "nbformat": 4,
 "nbformat_minor": 5
}
